{
 "cells": [
  {
   "cell_type": "markdown",
   "id": "d8a78dc2-131a-4554-bdcf-f18a856a7bc7",
   "metadata": {},
   "source": [
    "When we write code, we can use the language, actually any language, in different ways (paradigms)\n",
    "\n",
    "Place this chair right below the window!\n",
    "Declarative language\n",
    "This chair must be placed below the window.\n",
    "\n",
    "Functional Programming.\n",
    "\n",
    "We are placing data in the computer's memory. We recover these data from the memory using vars.\n",
    "Functional Programming means that my functions can also be placed in the computers memory and be referenced by vars.\n",
    "A var can refer to a function.\n",
    "I can pass a function as an argument to another function."
   ]
  },
  {
   "cell_type": "code",
   "execution_count": 1,
   "id": "5fd86a3d-0961-4d6b-b5d9-119cd426066d",
   "metadata": {},
   "outputs": [
    {
     "name": "stdout",
     "output_type": "stream",
     "text": [
      "[1.0, 2.0, 4.0, 5.0, 8.0]\n"
     ]
    }
   ],
   "source": [
    "\n",
    "\n",
    "my_list=[2,4,8,10,16]\n",
    "\n",
    "new_list=[]\n",
    "def half(number):\n",
    "    return number/2\n",
    "\n",
    "for each_item in my_list:\n",
    "    new_list.append(half(each_item))\n",
    "\n",
    "print(new_list)"
   ]
  },
  {
   "cell_type": "code",
   "execution_count": 3,
   "id": "29482bab-cce4-49ee-9579-60c98b7297fb",
   "metadata": {},
   "outputs": [
    {
     "name": "stdout",
     "output_type": "stream",
     "text": [
      "[1.0, 2.0, 4.0, 5.0, 8.0]\n"
     ]
    }
   ],
   "source": [
    "new_new_list = map( half, my_list )\n",
    "print(list(new_new_list))"
   ]
  },
  {
   "cell_type": "code",
   "execution_count": 4,
   "id": "1205ea3e-9c75-49bb-9673-60743f7b2339",
   "metadata": {},
   "outputs": [
    {
     "name": "stdout",
     "output_type": "stream",
     "text": [
      "[4, 8, 16, 20, 32]\n"
     ]
    }
   ],
   "source": [
    "#def double(number):\n",
    "#    return number * 2\n",
    "\n",
    "double_list = map( lambda number: number * 2 , my_list )\n",
    "\n",
    "print(list(double_list))"
   ]
  },
  {
   "cell_type": "code",
   "execution_count": 6,
   "id": "998a0543-26b3-418b-8481-4fe0467beefd",
   "metadata": {},
   "outputs": [
    {
     "name": "stdout",
     "output_type": "stream",
     "text": [
      "['20,24€', '20 €', '€20']\n"
     ]
    }
   ],
   "source": [
    "import re\n",
    "\n",
    "#def isInEuro(a_quantity):\n",
    "#    return re.match(\".*€\", a_quantity) # Returns True or False\n",
    "\n",
    "\n",
    "quantities=( \"20,24€\", \"$20.54\", \"20$\", \"20 €\", \"£20\", \"€20\" )\n",
    "#             True.      False.   False. True.   False. True\n",
    "\n",
    "only_quantities_in_euros = filter( lambda a_quantity: re.match(\".*€\", a_quantity) , quantities )\n",
    "\n",
    "print(list(only_quantities_in_euros))"
   ]
  },
  {
   "cell_type": "code",
   "execution_count": null,
   "id": "f8553a23-aa8f-4244-ade7-e21b80aaf677",
   "metadata": {},
   "outputs": [],
   "source": []
  }
 ],
 "metadata": {
  "kernelspec": {
   "display_name": "Python 3 (ipykernel)",
   "language": "python",
   "name": "python3"
  },
  "language_info": {
   "codemirror_mode": {
    "name": "ipython",
    "version": 3
   },
   "file_extension": ".py",
   "mimetype": "text/x-python",
   "name": "python",
   "nbconvert_exporter": "python",
   "pygments_lexer": "ipython3",
   "version": "3.9.10"
  }
 },
 "nbformat": 4,
 "nbformat_minor": 5
}
