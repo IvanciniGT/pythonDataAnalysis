{
 "cells": [
  {
   "cell_type": "markdown",
   "id": "747339ca-bb14-486c-acbd-e44c401d0b93",
   "metadata": {},
   "source": [
    "# In markdown the hash symbol identifies a title (header)\n",
    "\n",
    "Depending on the number of hashes, we create different levels of titles\n",
    "\n",
    "## In python blocks, \n",
    "\n",
    "Text appearing after a hash sign are ignored during program execution: COMMENTS in our code\n",
    "\n",
    "Commenting the code is really important. \n",
    "Code must be self explanatory\n",
    "\n",
    "# Conditionals"
   ]
  },
  {
   "cell_type": "code",
   "execution_count": 3,
   "id": "589920eb-62c2-46f0-a386-7df50b88f2fc",
   "metadata": {},
   "outputs": [
    {
     "name": "stdout",
     "output_type": "stream",
     "text": [
      "A\n",
      "Ivan jr.\n"
     ]
    }
   ],
   "source": [
    "age = 27  # This line defines the age of a person\n",
    "name = \"Ivan\"\n",
    "\n",
    "# If the person is older than 30 -> policy type B. Else the policy type A\n",
    "# Conditional\n",
    "\n",
    "if age > 30:                # if <condition>:\n",
    "    policy_type = \"B\"       # And this line is only going to be executed if the condition is True\n",
    "else:\n",
    "    policy_type = \"A\"       # This line is only going to be executed if the condition is False\n",
    "    name+=\" jr\"         # This line is only going to be executed if the condition is False\n",
    "\n",
    "name = name + \".\"           # This line is always executed\n",
    "\n",
    "print(policy_type)   # Must be B\n",
    "print(name)          # Must be \"Ivan.\""
   ]
  },
  {
   "cell_type": "code",
   "execution_count": 4,
   "id": "d928b4f1-5a25-42a3-96b1-b4e40caa1db9",
   "metadata": {},
   "outputs": [
    {
     "name": "stdout",
     "output_type": "stream",
     "text": [
      "B\n"
     ]
    }
   ],
   "source": [
    "age = 27\n",
    "\n",
    "# We want to have 3 policies: A, B, C, depending on the age:\n",
    "# 0-20 -> A\n",
    "# 21-40 -> B\n",
    "# 41+   -> C\n",
    "\n",
    "if age > 40:                \n",
    "    policy_type = \"C\" \n",
    "else:\n",
    "    if age > 20:\n",
    "        policy_type = \"B\" \n",
    "    else:\n",
    "        policy_type = \"A\" \n",
    "\n",
    "if age > 40:                \n",
    "    policy_type = \"C\" \n",
    "elif age > 20:           # Only if the first condition is false, check this other condition\n",
    "    policy_type = \"B\" \n",
    "else:\n",
    "    policy_type = \"A\" \n",
    "\n",
    "        \n",
    "print(policy_type)   # Must be B\n",
    "        "
   ]
  },
  {
   "cell_type": "markdown",
   "id": "8b34e686-fd50-4da8-8aeb-2e81dd14aab0",
   "metadata": {},
   "source": [
    "# Loops\n",
    "\n",
    "A loop is a piece of code that is going to be executed zero or multiple times.\n",
    "\n",
    "## Condition based loops\n",
    "\n"
   ]
  },
  {
   "cell_type": "code",
   "execution_count": 9,
   "id": "bef22f5d-0925-4300-82e4-423e96131960",
   "metadata": {},
   "outputs": [
    {
     "name": "stdout",
     "output_type": "stream",
     "text": [
      "15 is smaller than 20\n",
      "17 is smaller than 20\n",
      "19 is smaller than 20\n"
     ]
    }
   ],
   "source": [
    "age = 15\n",
    "\n",
    "while age < 20:\n",
    "    print( str(age) + \" is smaller than 20\" ) # In this case, this line of code must be executed while the condition is True\n",
    "    age += 2"
   ]
  },
  {
   "cell_type": "markdown",
   "id": "39db5f11-927b-46e6-9a98-1af84c53bfc2",
   "metadata": {},
   "source": [
    "## Collection based loops"
   ]
  },
  {
   "cell_type": "code",
   "execution_count": 10,
   "id": "b6edbc87-7bd0-45bc-a219-679ef1f12a7f",
   "metadata": {},
   "outputs": [
    {
     "name": "stdout",
     "output_type": "stream",
     "text": [
      "For this age: 10, the policy is A\n",
      "For this age: 22, the policy is A\n",
      "For this age: 32, the policy is B\n",
      "For this age: 45, the policy is B\n",
      "For this age: 78, the policy is B\n"
     ]
    }
   ],
   "source": [
    "ages = (10,22,32,45,78)\n",
    "\n",
    "for age in ages:\n",
    "    if age > 30:\n",
    "        print(\"For this age: \" + str(age) + \", the policy is B\")\n",
    "    else:\n",
    "        print(\"For this age: \" + str(age) + \", the policy is A\")"
   ]
  },
  {
   "cell_type": "code",
   "execution_count": 14,
   "id": "b3a563bf-6289-4fbf-8aff-f658bb7f3b05",
   "metadata": {},
   "outputs": [
    {
     "name": "stdout",
     "output_type": "stream",
     "text": [
      "This is job being done\n",
      "This is job being done\n",
      "This is job being done\n",
      "This is job being done\n",
      "This is job being done\n",
      "This is job being done\n",
      "This is job being done\n",
      "This is job being done\n",
      "This is job being done\n",
      "This is job being done\n",
      "This is job being done\n",
      "This is job being done\n",
      "This is job being done\n",
      "This is job being done\n",
      "This is job being done\n",
      "This is job being done\n",
      "This is job being done\n",
      "This is job being done\n",
      "This is job being done\n",
      "This is job being done\n",
      "This is another job being done. Time: 1\n",
      "This is another job being done. Time: 11\n",
      "This is another job being done. Time: 21\n",
      "This is another job being done. Time: 31\n",
      "This is another job being done. Time: 41\n",
      "This is another job being done. Time: 51\n",
      "This is another job being done. Time: 61\n",
      "This is another job being done. Time: 71\n",
      "This is another job being done. Time: 81\n",
      "This is another job being done. Time: 91\n",
      "This is another job being done. Time: 101\n",
      "This is another job being done. Time: 111\n",
      "This is another job being done. Time: 121\n",
      "This is another job being done. Time: 131\n",
      "This is another job being done. Time: 141\n",
      "This is another job being done. Time: 151\n",
      "This is another job being done. Time: 161\n",
      "This is another job being done. Time: 171\n",
      "This is another job being done. Time: 181\n",
      "This is another job being done. Time: 191\n",
      "This is another job being done. Time: 200\n",
      "This is another job being done. Time: 190\n",
      "This is another job being done. Time: 180\n",
      "This is another job being done. Time: 170\n",
      "This is another job being done. Time: 160\n",
      "This is another job being done. Time: 150\n",
      "This is another job being done. Time: 140\n",
      "This is another job being done. Time: 130\n",
      "This is another job being done. Time: 120\n",
      "This is another job being done. Time: 110\n",
      "This is another job being done. Time: 100\n",
      "This is another job being done. Time: 90\n",
      "This is another job being done. Time: 80\n",
      "This is another job being done. Time: 70\n",
      "This is another job being done. Time: 60\n",
      "This is another job being done. Time: 50\n",
      "This is another job being done. Time: 40\n",
      "This is another job being done. Time: 30\n",
      "This is another job being done. Time: 20\n",
      "This is another job being done. Time: 10\n"
     ]
    }
   ],
   "source": [
    "# Imagine we want to do a job 200 times\n",
    "\n",
    "# Option 1\n",
    "\n",
    "iteration_number=1\n",
    "\n",
    "while iteration_number < 21:\n",
    "    print(\"This is job being done\")\n",
    "    iteration_number+=1\n",
    "\n",
    "# Option 2\n",
    "\n",
    "for iteration_number in range(1,201, 10): # The sencond number is not included\n",
    "    print(\"This is another job being done. Time: \" + str(iteration_number))\n",
    "\n",
    "for iteration_number in range(200, 1, -10): # The sencond number is not included\n",
    "    print(\"This is another one job being done. Time: \" + str(iteration_number))\n"
   ]
  },
  {
   "cell_type": "code",
   "execution_count": null,
   "id": "a9a8dfe8-a345-4241-a85b-0511c26d8957",
   "metadata": {},
   "outputs": [],
   "source": []
  }
 ],
 "metadata": {
  "kernelspec": {
   "display_name": "Python 3 (ipykernel)",
   "language": "python",
   "name": "python3"
  },
  "language_info": {
   "codemirror_mode": {
    "name": "ipython",
    "version": 3
   },
   "file_extension": ".py",
   "mimetype": "text/x-python",
   "name": "python",
   "nbconvert_exporter": "python",
   "pygments_lexer": "ipython3",
   "version": "3.9.10"
  }
 },
 "nbformat": 4,
 "nbformat_minor": 5
}
