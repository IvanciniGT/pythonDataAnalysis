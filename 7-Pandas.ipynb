{
 "cells": [
  {
   "cell_type": "markdown",
   "id": "5f202d0f-e59b-4ef0-8232-ec93539dd581",
   "metadata": {},
   "source": [
    "# Pandas\n",
    "\n",
    "Allow us to manipulate and transform data\n",
    "\n",
    "## Series\n",
    "\n",
    "Is an ordered sequence of values... almost the same as a List. Is like a column in a database\n",
    "\n",
    "## DataFrame\n",
    "\n",
    "Is a collection of Series. Like a table of a database o an Excel table\n",
    "\n",
    "First thing we need to do when working with pandas, is to install it. We have that already in this environment.\n",
    "If we didn't we should execute a command:\n",
    "\n",
    "    $ pip install pandas\n",
    "\n",
    "Next we have to import that library\n",
    "\n"
   ]
  },
  {
   "cell_type": "code",
   "execution_count": 1,
   "id": "fbfd878d-b030-4ac9-aaf0-455a3dea43dd",
   "metadata": {},
   "outputs": [],
   "source": [
    "import pandas as pd"
   ]
  },
  {
   "cell_type": "markdown",
   "id": "e31e17a5-e784-463e-9c00-4a2f8c2600fe",
   "metadata": {},
   "source": [
    "# Create a DataFrame.\n",
    "\n",
    "we could ge a DataFrame from a database or csv file (Excel)... but in this case, we are going to create an empty DataFrame from scratch."
   ]
  },
  {
   "cell_type": "code",
   "execution_count": 2,
   "id": "812f707c-5785-4dce-a5b6-e86d66957b7c",
   "metadata": {},
   "outputs": [
    {
     "name": "stdout",
     "output_type": "stream",
     "text": [
      "Empty DataFrame\n",
      "Columns: []\n",
      "Index: []\n"
     ]
    }
   ],
   "source": [
    "empty_dataframe = pd.DataFrame()\n",
    "\n",
    "print(empty_dataframe)"
   ]
  },
  {
   "cell_type": "code",
   "execution_count": 3,
   "id": "5b382a81-b065-412b-ab0c-392d6efb8074",
   "metadata": {},
   "outputs": [
    {
     "name": "stdout",
     "output_type": "stream",
     "text": [
      "         0\n",
      "0   Alvaro\n",
      "1      Ana\n",
      "2     Luia\n",
      "3    James\n",
      "4  Brendan\n",
      "5    Sarah\n"
     ]
    }
   ],
   "source": [
    "# The index is the id\n",
    "names = ('Alvaro', 'Ana', 'Luia', 'James', 'Brendan', 'Sarah')\n",
    "names_dataframe = pd.DataFrame(names)\n",
    "print(names_dataframe)"
   ]
  },
  {
   "cell_type": "code",
   "execution_count": 4,
   "id": "78991806-140c-472c-9563-e49d316ba9b2",
   "metadata": {},
   "outputs": [
    {
     "data": {
      "text/plain": [
       "RangeIndex(start=0, stop=1, step=1)"
      ]
     },
     "execution_count": 4,
     "metadata": {},
     "output_type": "execute_result"
    }
   ],
   "source": [
    "names_dataframe.columns"
   ]
  },
  {
   "cell_type": "code",
   "execution_count": 5,
   "id": "05680a09-2157-424b-b524-7212246e2875",
   "metadata": {},
   "outputs": [
    {
     "data": {
      "text/plain": [
       "RangeIndex(start=0, stop=6, step=1)"
      ]
     },
     "execution_count": 5,
     "metadata": {},
     "output_type": "execute_result"
    }
   ],
   "source": [
    "names_dataframe.index"
   ]
  },
  {
   "cell_type": "code",
   "execution_count": 6,
   "id": "2a047259-6346-45c0-9503-b59666883b9b",
   "metadata": {},
   "outputs": [
    {
     "data": {
      "text/html": [
       "<div>\n",
       "<style scoped>\n",
       "    .dataframe tbody tr th:only-of-type {\n",
       "        vertical-align: middle;\n",
       "    }\n",
       "\n",
       "    .dataframe tbody tr th {\n",
       "        vertical-align: top;\n",
       "    }\n",
       "\n",
       "    .dataframe thead th {\n",
       "        text-align: right;\n",
       "    }\n",
       "</style>\n",
       "<table border=\"1\" class=\"dataframe\">\n",
       "  <thead>\n",
       "    <tr style=\"text-align: right;\">\n",
       "      <th></th>\n",
       "      <th>Surname</th>\n",
       "    </tr>\n",
       "  </thead>\n",
       "  <tbody>\n",
       "    <tr>\n",
       "      <th>0</th>\n",
       "      <td>Alvaro</td>\n",
       "    </tr>\n",
       "    <tr>\n",
       "      <th>1</th>\n",
       "      <td>Ana</td>\n",
       "    </tr>\n",
       "    <tr>\n",
       "      <th>2</th>\n",
       "      <td>Luia</td>\n",
       "    </tr>\n",
       "    <tr>\n",
       "      <th>3</th>\n",
       "      <td>James</td>\n",
       "    </tr>\n",
       "    <tr>\n",
       "      <th>4</th>\n",
       "      <td>Brendan</td>\n",
       "    </tr>\n",
       "    <tr>\n",
       "      <th>5</th>\n",
       "      <td>Sarah</td>\n",
       "    </tr>\n",
       "  </tbody>\n",
       "</table>\n",
       "</div>"
      ],
      "text/plain": [
       "   Surname\n",
       "0   Alvaro\n",
       "1      Ana\n",
       "2     Luia\n",
       "3    James\n",
       "4  Brendan\n",
       "5    Sarah"
      ]
     },
     "execution_count": 6,
     "metadata": {},
     "output_type": "execute_result"
    }
   ],
   "source": [
    "# Identify (give a name) to my columns\n",
    "\n",
    "names_dataframe.columns=['Surname']\n",
    "names_dataframe"
   ]
  },
  {
   "cell_type": "code",
   "execution_count": 7,
   "id": "63b10544-daf5-491b-b96a-ceeb26f638b5",
   "metadata": {},
   "outputs": [
    {
     "data": {
      "text/html": [
       "<div>\n",
       "<style scoped>\n",
       "    .dataframe tbody tr th:only-of-type {\n",
       "        vertical-align: middle;\n",
       "    }\n",
       "\n",
       "    .dataframe tbody tr th {\n",
       "        vertical-align: top;\n",
       "    }\n",
       "\n",
       "    .dataframe thead th {\n",
       "        text-align: right;\n",
       "    }\n",
       "</style>\n",
       "<table border=\"1\" class=\"dataframe\">\n",
       "  <thead>\n",
       "    <tr style=\"text-align: right;\">\n",
       "      <th></th>\n",
       "      <th>Surname</th>\n",
       "    </tr>\n",
       "  </thead>\n",
       "  <tbody>\n",
       "    <tr>\n",
       "      <th>0</th>\n",
       "      <td>Alvaro</td>\n",
       "    </tr>\n",
       "    <tr>\n",
       "      <th>1</th>\n",
       "      <td>Ana</td>\n",
       "    </tr>\n",
       "    <tr>\n",
       "      <th>2</th>\n",
       "      <td>Luia</td>\n",
       "    </tr>\n",
       "    <tr>\n",
       "      <th>3</th>\n",
       "      <td>James</td>\n",
       "    </tr>\n",
       "    <tr>\n",
       "      <th>4</th>\n",
       "      <td>Brendan</td>\n",
       "    </tr>\n",
       "    <tr>\n",
       "      <th>5</th>\n",
       "      <td>Sarah</td>\n",
       "    </tr>\n",
       "  </tbody>\n",
       "</table>\n",
       "</div>"
      ],
      "text/plain": [
       "   Surname\n",
       "0   Alvaro\n",
       "1      Ana\n",
       "2     Luia\n",
       "3    James\n",
       "4  Brendan\n",
       "5    Sarah"
      ]
     },
     "execution_count": 7,
     "metadata": {},
     "output_type": "execute_result"
    }
   ],
   "source": [
    "names2_dataframe = pd.DataFrame(names, columns=['Surname'])\n",
    "names2_dataframe"
   ]
  },
  {
   "cell_type": "code",
   "execution_count": 8,
   "id": "8ca69409-222d-4cc8-b310-ca8b2a69df5d",
   "metadata": {},
   "outputs": [
    {
     "data": {
      "text/html": [
       "<div>\n",
       "<style scoped>\n",
       "    .dataframe tbody tr th:only-of-type {\n",
       "        vertical-align: middle;\n",
       "    }\n",
       "\n",
       "    .dataframe tbody tr th {\n",
       "        vertical-align: top;\n",
       "    }\n",
       "\n",
       "    .dataframe thead th {\n",
       "        text-align: right;\n",
       "    }\n",
       "</style>\n",
       "<table border=\"1\" class=\"dataframe\">\n",
       "  <thead>\n",
       "    <tr style=\"text-align: right;\">\n",
       "      <th></th>\n",
       "      <th>0</th>\n",
       "      <th>1</th>\n",
       "    </tr>\n",
       "  </thead>\n",
       "  <tbody>\n",
       "    <tr>\n",
       "      <th>0</th>\n",
       "      <td>Alvaro</td>\n",
       "      <td>24</td>\n",
       "    </tr>\n",
       "    <tr>\n",
       "      <th>1</th>\n",
       "      <td>Ana</td>\n",
       "      <td>27</td>\n",
       "    </tr>\n",
       "    <tr>\n",
       "      <th>2</th>\n",
       "      <td>Luzia</td>\n",
       "      <td>31</td>\n",
       "    </tr>\n",
       "    <tr>\n",
       "      <th>3</th>\n",
       "      <td>James</td>\n",
       "      <td>32</td>\n",
       "    </tr>\n",
       "    <tr>\n",
       "      <th>4</th>\n",
       "      <td>Brendan</td>\n",
       "      <td>30</td>\n",
       "    </tr>\n",
       "    <tr>\n",
       "      <th>5</th>\n",
       "      <td>Sarah</td>\n",
       "      <td>27</td>\n",
       "    </tr>\n",
       "  </tbody>\n",
       "</table>\n",
       "</div>"
      ],
      "text/plain": [
       "         0   1\n",
       "0   Alvaro  24\n",
       "1      Ana  27\n",
       "2    Luzia  31\n",
       "3    James  32\n",
       "4  Brendan  30\n",
       "5    Sarah  27"
      ]
     },
     "execution_count": 8,
     "metadata": {},
     "output_type": "execute_result"
    }
   ],
   "source": [
    "people = ( ('Alvaro', 24), ('Ana', 27), ('Luzia', 31), ('James', 32), ('Brendan', 30), ('Sarah', 27) )\n",
    "people_dataframe = pd.DataFrame(people)\n",
    "people_dataframe"
   ]
  },
  {
   "cell_type": "code",
   "execution_count": 9,
   "id": "4cd8a7da-dea7-4008-92dd-d2dabe6fa5fd",
   "metadata": {},
   "outputs": [
    {
     "data": {
      "text/html": [
       "<div>\n",
       "<style scoped>\n",
       "    .dataframe tbody tr th:only-of-type {\n",
       "        vertical-align: middle;\n",
       "    }\n",
       "\n",
       "    .dataframe tbody tr th {\n",
       "        vertical-align: top;\n",
       "    }\n",
       "\n",
       "    .dataframe thead th {\n",
       "        text-align: right;\n",
       "    }\n",
       "</style>\n",
       "<table border=\"1\" class=\"dataframe\">\n",
       "  <thead>\n",
       "    <tr style=\"text-align: right;\">\n",
       "      <th></th>\n",
       "      <th>Surname</th>\n",
       "      <th>Age</th>\n",
       "    </tr>\n",
       "  </thead>\n",
       "  <tbody>\n",
       "    <tr>\n",
       "      <th>0</th>\n",
       "      <td>Alvaro</td>\n",
       "      <td>24</td>\n",
       "    </tr>\n",
       "    <tr>\n",
       "      <th>1</th>\n",
       "      <td>Ana</td>\n",
       "      <td>27</td>\n",
       "    </tr>\n",
       "    <tr>\n",
       "      <th>2</th>\n",
       "      <td>Luzia</td>\n",
       "      <td>31</td>\n",
       "    </tr>\n",
       "    <tr>\n",
       "      <th>3</th>\n",
       "      <td>James</td>\n",
       "      <td>32</td>\n",
       "    </tr>\n",
       "    <tr>\n",
       "      <th>4</th>\n",
       "      <td>Brendan</td>\n",
       "      <td>30</td>\n",
       "    </tr>\n",
       "    <tr>\n",
       "      <th>5</th>\n",
       "      <td>Sarah</td>\n",
       "      <td>27</td>\n",
       "    </tr>\n",
       "  </tbody>\n",
       "</table>\n",
       "</div>"
      ],
      "text/plain": [
       "   Surname  Age\n",
       "0   Alvaro   24\n",
       "1      Ana   27\n",
       "2    Luzia   31\n",
       "3    James   32\n",
       "4  Brendan   30\n",
       "5    Sarah   27"
      ]
     },
     "execution_count": 9,
     "metadata": {},
     "output_type": "execute_result"
    }
   ],
   "source": [
    "people_dataframe.columns=['Surname', 'Age']\n",
    "people_dataframe"
   ]
  },
  {
   "cell_type": "code",
   "execution_count": 10,
   "id": "af444917-5d03-42f6-b806-2c88e03d07f0",
   "metadata": {},
   "outputs": [
    {
     "data": {
      "text/plain": [
       "0    24\n",
       "1    27\n",
       "2    31\n",
       "3    32\n",
       "4    30\n",
       "5    27\n",
       "Name: Age, dtype: int64"
      ]
     },
     "execution_count": 10,
     "metadata": {},
     "output_type": "execute_result"
    }
   ],
   "source": [
    "people_dataframe['Age']"
   ]
  },
  {
   "cell_type": "code",
   "execution_count": 11,
   "id": "49c81637-3c6c-46d8-9fce-8e47fac67702",
   "metadata": {},
   "outputs": [
    {
     "data": {
      "text/plain": [
       "0     Alvaro\n",
       "1        Ana\n",
       "2      Luzia\n",
       "3      James\n",
       "4    Brendan\n",
       "5      Sarah\n",
       "Name: Surname, dtype: object"
      ]
     },
     "execution_count": 11,
     "metadata": {},
     "output_type": "execute_result"
    }
   ],
   "source": [
    "people_dataframe['Surname']"
   ]
  },
  {
   "cell_type": "code",
   "execution_count": 12,
   "id": "317affd0-d833-4ac1-8570-e0cb92f683e2",
   "metadata": {},
   "outputs": [
    {
     "data": {
      "text/plain": [
       "Surname    James\n",
       "Age           32\n",
       "Name: 3, dtype: object"
      ]
     },
     "execution_count": 12,
     "metadata": {},
     "output_type": "execute_result"
    }
   ],
   "source": [
    "people_dataframe.iloc[3]"
   ]
  },
  {
   "cell_type": "code",
   "execution_count": 13,
   "id": "96cd8048-df74-4c83-82d5-b4d7df64ea12",
   "metadata": {},
   "outputs": [
    {
     "data": {
      "text/html": [
       "<div>\n",
       "<style scoped>\n",
       "    .dataframe tbody tr th:only-of-type {\n",
       "        vertical-align: middle;\n",
       "    }\n",
       "\n",
       "    .dataframe tbody tr th {\n",
       "        vertical-align: top;\n",
       "    }\n",
       "\n",
       "    .dataframe thead th {\n",
       "        text-align: right;\n",
       "    }\n",
       "</style>\n",
       "<table border=\"1\" class=\"dataframe\">\n",
       "  <thead>\n",
       "    <tr style=\"text-align: right;\">\n",
       "      <th></th>\n",
       "      <th>Surname</th>\n",
       "      <th>Age</th>\n",
       "    </tr>\n",
       "  </thead>\n",
       "  <tbody>\n",
       "    <tr>\n",
       "      <th>0</th>\n",
       "      <td>Alvaro</td>\n",
       "      <td>24</td>\n",
       "    </tr>\n",
       "    <tr>\n",
       "      <th>1</th>\n",
       "      <td>Ana</td>\n",
       "      <td>27</td>\n",
       "    </tr>\n",
       "    <tr>\n",
       "      <th>2</th>\n",
       "      <td>Luzia</td>\n",
       "      <td>31</td>\n",
       "    </tr>\n",
       "    <tr>\n",
       "      <th>3</th>\n",
       "      <td>James</td>\n",
       "      <td>32</td>\n",
       "    </tr>\n",
       "    <tr>\n",
       "      <th>4</th>\n",
       "      <td>Brendan</td>\n",
       "      <td>30</td>\n",
       "    </tr>\n",
       "    <tr>\n",
       "      <th>5</th>\n",
       "      <td>Sarah</td>\n",
       "      <td>27</td>\n",
       "    </tr>\n",
       "  </tbody>\n",
       "</table>\n",
       "</div>"
      ],
      "text/plain": [
       "   Surname  Age\n",
       "0   Alvaro   24\n",
       "1      Ana   27\n",
       "2    Luzia   31\n",
       "3    James   32\n",
       "4  Brendan   30\n",
       "5    Sarah   27"
      ]
     },
     "execution_count": 13,
     "metadata": {},
     "output_type": "execute_result"
    }
   ],
   "source": [
    "people_dataframe"
   ]
  },
  {
   "cell_type": "code",
   "execution_count": 14,
   "id": "8de10c6a-adcd-4b89-8ee9-ac9c2d09a40b",
   "metadata": {},
   "outputs": [
    {
     "data": {
      "text/html": [
       "<div>\n",
       "<style scoped>\n",
       "    .dataframe tbody tr th:only-of-type {\n",
       "        vertical-align: middle;\n",
       "    }\n",
       "\n",
       "    .dataframe tbody tr th {\n",
       "        vertical-align: top;\n",
       "    }\n",
       "\n",
       "    .dataframe thead th {\n",
       "        text-align: right;\n",
       "    }\n",
       "</style>\n",
       "<table border=\"1\" class=\"dataframe\">\n",
       "  <thead>\n",
       "    <tr style=\"text-align: right;\">\n",
       "      <th></th>\n",
       "      <th>Surname</th>\n",
       "      <th>Age</th>\n",
       "    </tr>\n",
       "    <tr>\n",
       "      <th>Surname</th>\n",
       "      <th></th>\n",
       "      <th></th>\n",
       "    </tr>\n",
       "  </thead>\n",
       "  <tbody>\n",
       "    <tr>\n",
       "      <th>Alvaro</th>\n",
       "      <td>Alvaro</td>\n",
       "      <td>24</td>\n",
       "    </tr>\n",
       "    <tr>\n",
       "      <th>Ana</th>\n",
       "      <td>Ana</td>\n",
       "      <td>27</td>\n",
       "    </tr>\n",
       "    <tr>\n",
       "      <th>Luzia</th>\n",
       "      <td>Luzia</td>\n",
       "      <td>31</td>\n",
       "    </tr>\n",
       "    <tr>\n",
       "      <th>James</th>\n",
       "      <td>James</td>\n",
       "      <td>32</td>\n",
       "    </tr>\n",
       "    <tr>\n",
       "      <th>Brendan</th>\n",
       "      <td>Brendan</td>\n",
       "      <td>30</td>\n",
       "    </tr>\n",
       "    <tr>\n",
       "      <th>Sarah</th>\n",
       "      <td>Sarah</td>\n",
       "      <td>27</td>\n",
       "    </tr>\n",
       "  </tbody>\n",
       "</table>\n",
       "</div>"
      ],
      "text/plain": [
       "         Surname  Age\n",
       "Surname              \n",
       "Alvaro    Alvaro   24\n",
       "Ana          Ana   27\n",
       "Luzia      Luzia   31\n",
       "James      James   32\n",
       "Brendan  Brendan   30\n",
       "Sarah      Sarah   27"
      ]
     },
     "execution_count": 14,
     "metadata": {},
     "output_type": "execute_result"
    }
   ],
   "source": [
    "people_dataframe.index = people_dataframe['Surname']\n",
    "people_dataframe"
   ]
  },
  {
   "cell_type": "code",
   "execution_count": 15,
   "id": "3cb6be13-9c8f-4c7e-ba92-7a8b1450c5cf",
   "metadata": {},
   "outputs": [
    {
     "data": {
      "text/plain": [
       "Surname    James\n",
       "Age           32\n",
       "Name: James, dtype: object"
      ]
     },
     "execution_count": 15,
     "metadata": {},
     "output_type": "execute_result"
    }
   ],
   "source": [
    "people_dataframe.loc['James']"
   ]
  },
  {
   "cell_type": "code",
   "execution_count": 16,
   "id": "01900eb7-4f55-4c8e-a3c2-8a9388b8d412",
   "metadata": {},
   "outputs": [
    {
     "data": {
      "text/plain": [
       "32"
      ]
     },
     "execution_count": 16,
     "metadata": {},
     "output_type": "execute_result"
    }
   ],
   "source": [
    "people_dataframe.loc['James']['Age']"
   ]
  },
  {
   "cell_type": "code",
   "execution_count": 17,
   "id": "ed5ea6a7-a21a-404c-af71-4c0166ad1be5",
   "metadata": {},
   "outputs": [
    {
     "data": {
      "text/plain": [
       "32"
      ]
     },
     "execution_count": 17,
     "metadata": {},
     "output_type": "execute_result"
    }
   ],
   "source": [
    "people_dataframe['Age'].loc['James']"
   ]
  },
  {
   "cell_type": "code",
   "execution_count": 18,
   "id": "b75771cf-681e-4ee8-a201-441f42a5d81b",
   "metadata": {},
   "outputs": [
    {
     "data": {
      "text/html": [
       "<div>\n",
       "<style scoped>\n",
       "    .dataframe tbody tr th:only-of-type {\n",
       "        vertical-align: middle;\n",
       "    }\n",
       "\n",
       "    .dataframe tbody tr th {\n",
       "        vertical-align: top;\n",
       "    }\n",
       "\n",
       "    .dataframe thead th {\n",
       "        text-align: right;\n",
       "    }\n",
       "</style>\n",
       "<table border=\"1\" class=\"dataframe\">\n",
       "  <thead>\n",
       "    <tr style=\"text-align: right;\">\n",
       "      <th></th>\n",
       "      <th>names</th>\n",
       "      <th>ages</th>\n",
       "    </tr>\n",
       "  </thead>\n",
       "  <tbody>\n",
       "    <tr>\n",
       "      <th>0</th>\n",
       "      <td>Alvaro</td>\n",
       "      <td>25</td>\n",
       "    </tr>\n",
       "    <tr>\n",
       "      <th>1</th>\n",
       "      <td>Ana</td>\n",
       "      <td>27</td>\n",
       "    </tr>\n",
       "    <tr>\n",
       "      <th>2</th>\n",
       "      <td>Luzia</td>\n",
       "      <td>31</td>\n",
       "    </tr>\n",
       "    <tr>\n",
       "      <th>3</th>\n",
       "      <td>James</td>\n",
       "      <td>32</td>\n",
       "    </tr>\n",
       "    <tr>\n",
       "      <th>4</th>\n",
       "      <td>Brendan</td>\n",
       "      <td>34</td>\n",
       "    </tr>\n",
       "    <tr>\n",
       "      <th>5</th>\n",
       "      <td>Sarah</td>\n",
       "      <td>35</td>\n",
       "    </tr>\n",
       "  </tbody>\n",
       "</table>\n",
       "</div>"
      ],
      "text/plain": [
       "     names  ages\n",
       "0   Alvaro    25\n",
       "1      Ana    27\n",
       "2    Luzia    31\n",
       "3    James    32\n",
       "4  Brendan    34\n",
       "5    Sarah    35"
      ]
     },
     "execution_count": 18,
     "metadata": {},
     "output_type": "execute_result"
    }
   ],
   "source": [
    "people = {\n",
    "    \"names\": ('Alvaro', 'Ana', 'Luzia', 'James', 'Brendan', 'Sarah'),\n",
    "    \"ages\": (25, 27, 31, 32, 34, 35)\n",
    "}\n",
    "new_people_dataframe = pd.DataFrame(people)\n",
    "new_people_dataframe"
   ]
  },
  {
   "cell_type": "code",
   "execution_count": 19,
   "id": "3fef4337-dc74-48c6-bbf3-effca182d0a8",
   "metadata": {},
   "outputs": [
    {
     "data": {
      "text/plain": [
       "2"
      ]
     },
     "execution_count": 19,
     "metadata": {},
     "output_type": "execute_result"
    }
   ],
   "source": [
    "# Discover the size \n",
    "\n",
    "new_people_dataframe.ndim       # Number of columns"
   ]
  },
  {
   "cell_type": "code",
   "execution_count": 20,
   "id": "c0a4758e-5663-49ad-b557-846c1cf1381c",
   "metadata": {},
   "outputs": [
    {
     "data": {
      "text/plain": [
       "(6, 2)"
      ]
     },
     "execution_count": 20,
     "metadata": {},
     "output_type": "execute_result"
    }
   ],
   "source": [
    "new_people_dataframe.shape       "
   ]
  },
  {
   "cell_type": "code",
   "execution_count": 22,
   "id": "9737270d-997e-4f08-ac45-88b29748ba09",
   "metadata": {},
   "outputs": [
    {
     "data": {
      "text/plain": [
       "6"
      ]
     },
     "execution_count": 22,
     "metadata": {},
     "output_type": "execute_result"
    }
   ],
   "source": [
    "new_people_dataframe.shape[0] # Number of rows"
   ]
  },
  {
   "cell_type": "code",
   "execution_count": 23,
   "id": "f611a2c4-a99a-4d79-8c8c-b38db45ca9dd",
   "metadata": {},
   "outputs": [
    {
     "data": {
      "text/plain": [
       "2"
      ]
     },
     "execution_count": 23,
     "metadata": {},
     "output_type": "execute_result"
    }
   ],
   "source": [
    "new_people_dataframe.shape[1] # Number of columns"
   ]
  },
  {
   "cell_type": "code",
   "execution_count": 24,
   "id": "817cfbe3-657f-4df9-9b59-cd30364dfec1",
   "metadata": {},
   "outputs": [
    {
     "data": {
      "text/plain": [
       "12"
      ]
     },
     "execution_count": 24,
     "metadata": {},
     "output_type": "execute_result"
    }
   ],
   "source": [
    "new_people_dataframe.size  "
   ]
  },
  {
   "cell_type": "code",
   "execution_count": 25,
   "id": "da7efa9a-d732-47c8-80ab-d8ce4d474122",
   "metadata": {},
   "outputs": [
    {
     "data": {
      "text/html": [
       "<div>\n",
       "<style scoped>\n",
       "    .dataframe tbody tr th:only-of-type {\n",
       "        vertical-align: middle;\n",
       "    }\n",
       "\n",
       "    .dataframe tbody tr th {\n",
       "        vertical-align: top;\n",
       "    }\n",
       "\n",
       "    .dataframe thead th {\n",
       "        text-align: right;\n",
       "    }\n",
       "</style>\n",
       "<table border=\"1\" class=\"dataframe\">\n",
       "  <thead>\n",
       "    <tr style=\"text-align: right;\">\n",
       "      <th></th>\n",
       "      <th>names</th>\n",
       "      <th>ages</th>\n",
       "    </tr>\n",
       "  </thead>\n",
       "  <tbody>\n",
       "    <tr>\n",
       "      <th>0</th>\n",
       "      <td>Alvaro</td>\n",
       "      <td>25</td>\n",
       "    </tr>\n",
       "    <tr>\n",
       "      <th>1</th>\n",
       "      <td>Ana</td>\n",
       "      <td>27</td>\n",
       "    </tr>\n",
       "    <tr>\n",
       "      <th>2</th>\n",
       "      <td>Luzia</td>\n",
       "      <td>31</td>\n",
       "    </tr>\n",
       "  </tbody>\n",
       "</table>\n",
       "</div>"
      ],
      "text/plain": [
       "    names  ages\n",
       "0  Alvaro    25\n",
       "1     Ana    27\n",
       "2   Luzia    31"
      ]
     },
     "execution_count": 25,
     "metadata": {},
     "output_type": "execute_result"
    }
   ],
   "source": [
    "new_people_dataframe.head(3)"
   ]
  },
  {
   "cell_type": "code",
   "execution_count": 26,
   "id": "b1372b39-3695-4e60-89a9-16a58498b861",
   "metadata": {},
   "outputs": [
    {
     "data": {
      "text/html": [
       "<div>\n",
       "<style scoped>\n",
       "    .dataframe tbody tr th:only-of-type {\n",
       "        vertical-align: middle;\n",
       "    }\n",
       "\n",
       "    .dataframe tbody tr th {\n",
       "        vertical-align: top;\n",
       "    }\n",
       "\n",
       "    .dataframe thead th {\n",
       "        text-align: right;\n",
       "    }\n",
       "</style>\n",
       "<table border=\"1\" class=\"dataframe\">\n",
       "  <thead>\n",
       "    <tr style=\"text-align: right;\">\n",
       "      <th></th>\n",
       "      <th>names</th>\n",
       "      <th>ages</th>\n",
       "    </tr>\n",
       "  </thead>\n",
       "  <tbody>\n",
       "    <tr>\n",
       "      <th>3</th>\n",
       "      <td>James</td>\n",
       "      <td>32</td>\n",
       "    </tr>\n",
       "    <tr>\n",
       "      <th>4</th>\n",
       "      <td>Brendan</td>\n",
       "      <td>34</td>\n",
       "    </tr>\n",
       "    <tr>\n",
       "      <th>5</th>\n",
       "      <td>Sarah</td>\n",
       "      <td>35</td>\n",
       "    </tr>\n",
       "  </tbody>\n",
       "</table>\n",
       "</div>"
      ],
      "text/plain": [
       "     names  ages\n",
       "3    James    32\n",
       "4  Brendan    34\n",
       "5    Sarah    35"
      ]
     },
     "execution_count": 26,
     "metadata": {},
     "output_type": "execute_result"
    }
   ],
   "source": [
    "new_people_dataframe.tail(3)"
   ]
  },
  {
   "cell_type": "code",
   "execution_count": 28,
   "id": "d44df0e7-7b6a-4c9d-871e-5b4f365d8877",
   "metadata": {},
   "outputs": [
    {
     "name": "stdout",
     "output_type": "stream",
     "text": [
      "0\n",
      "1\n",
      "2\n",
      "3\n",
      "4\n",
      "5\n"
     ]
    }
   ],
   "source": [
    "for each_row in new_people_dataframe.index:\n",
    "    print(each_row)"
   ]
  },
  {
   "cell_type": "code",
   "execution_count": 29,
   "id": "c17efc45-1b46-48db-a126-f0c45840ecc3",
   "metadata": {},
   "outputs": [
    {
     "name": "stdout",
     "output_type": "stream",
     "text": [
      "Alvaro\n",
      "Ana\n",
      "Luzia\n",
      "James\n",
      "Brendan\n",
      "Sarah\n",
      "25\n",
      "27\n",
      "31\n",
      "32\n",
      "34\n",
      "35\n"
     ]
    }
   ],
   "source": [
    "for each_column in new_people_dataframe.columns:\n",
    "    for each_row in new_people_dataframe.index:\n",
    "        print( new_people_dataframe[each_column][each_row] )"
   ]
  },
  {
   "cell_type": "code",
   "execution_count": 30,
   "id": "77764c1a-105c-4be2-af45-66f6c33a4ab9",
   "metadata": {},
   "outputs": [
    {
     "name": "stdout",
     "output_type": "stream",
     "text": [
      "Alvaro\n",
      "25\n",
      "Ana\n",
      "27\n",
      "Luzia\n",
      "31\n",
      "James\n",
      "32\n",
      "Brendan\n",
      "34\n",
      "Sarah\n",
      "35\n"
     ]
    }
   ],
   "source": [
    "for each_row in new_people_dataframe.index:\n",
    "    for each_column in new_people_dataframe.columns:\n",
    "        print( new_people_dataframe[each_column][each_row] )"
   ]
  },
  {
   "cell_type": "code",
   "execution_count": 31,
   "id": "8ef54d9d-88ca-42d7-97e6-1451f1e7806b",
   "metadata": {},
   "outputs": [
    {
     "data": {
      "text/plain": [
       "names    object\n",
       "ages      int64\n",
       "dtype: object"
      ]
     },
     "execution_count": 31,
     "metadata": {},
     "output_type": "execute_result"
    }
   ],
   "source": [
    "new_people_dataframe.dtypes"
   ]
  },
  {
   "cell_type": "code",
   "execution_count": 34,
   "id": "6198be9a-c401-425f-933e-2389306f760e",
   "metadata": {},
   "outputs": [
    {
     "data": {
      "text/plain": [
       "names    Ana\n",
       "ages      27\n",
       "Name: 1, dtype: object"
      ]
     },
     "execution_count": 34,
     "metadata": {},
     "output_type": "execute_result"
    }
   ],
   "source": [
    "new_people_dataframe.iloc[1]"
   ]
  },
  {
   "cell_type": "code",
   "execution_count": 36,
   "id": "94a2b5fc-cfd2-480d-9e17-90281c03865a",
   "metadata": {},
   "outputs": [
    {
     "data": {
      "text/html": [
       "<div>\n",
       "<style scoped>\n",
       "    .dataframe tbody tr th:only-of-type {\n",
       "        vertical-align: middle;\n",
       "    }\n",
       "\n",
       "    .dataframe tbody tr th {\n",
       "        vertical-align: top;\n",
       "    }\n",
       "\n",
       "    .dataframe thead th {\n",
       "        text-align: right;\n",
       "    }\n",
       "</style>\n",
       "<table border=\"1\" class=\"dataframe\">\n",
       "  <thead>\n",
       "    <tr style=\"text-align: right;\">\n",
       "      <th></th>\n",
       "      <th>names</th>\n",
       "      <th>ages</th>\n",
       "    </tr>\n",
       "  </thead>\n",
       "  <tbody>\n",
       "    <tr>\n",
       "      <th>2</th>\n",
       "      <td>Luzia</td>\n",
       "      <td>31</td>\n",
       "    </tr>\n",
       "    <tr>\n",
       "      <th>3</th>\n",
       "      <td>James</td>\n",
       "      <td>32</td>\n",
       "    </tr>\n",
       "    <tr>\n",
       "      <th>4</th>\n",
       "      <td>Brendan</td>\n",
       "      <td>34</td>\n",
       "    </tr>\n",
       "  </tbody>\n",
       "</table>\n",
       "</div>"
      ],
      "text/plain": [
       "     names  ages\n",
       "2    Luzia    31\n",
       "3    James    32\n",
       "4  Brendan    34"
      ]
     },
     "execution_count": 36,
     "metadata": {},
     "output_type": "execute_result"
    }
   ],
   "source": [
    "new_people_dataframe[2:5]"
   ]
  },
  {
   "cell_type": "code",
   "execution_count": 37,
   "id": "89e8c24f-647a-4994-9fe9-8e0d1bf8d11a",
   "metadata": {},
   "outputs": [
    {
     "data": {
      "text/html": [
       "<div>\n",
       "<style scoped>\n",
       "    .dataframe tbody tr th:only-of-type {\n",
       "        vertical-align: middle;\n",
       "    }\n",
       "\n",
       "    .dataframe tbody tr th {\n",
       "        vertical-align: top;\n",
       "    }\n",
       "\n",
       "    .dataframe thead th {\n",
       "        text-align: right;\n",
       "    }\n",
       "</style>\n",
       "<table border=\"1\" class=\"dataframe\">\n",
       "  <thead>\n",
       "    <tr style=\"text-align: right;\">\n",
       "      <th></th>\n",
       "      <th>names</th>\n",
       "      <th>ages</th>\n",
       "    </tr>\n",
       "  </thead>\n",
       "  <tbody>\n",
       "    <tr>\n",
       "      <th>2</th>\n",
       "      <td>Luzia</td>\n",
       "      <td>31</td>\n",
       "    </tr>\n",
       "    <tr>\n",
       "      <th>3</th>\n",
       "      <td>James</td>\n",
       "      <td>32</td>\n",
       "    </tr>\n",
       "    <tr>\n",
       "      <th>4</th>\n",
       "      <td>Brendan</td>\n",
       "      <td>34</td>\n",
       "    </tr>\n",
       "  </tbody>\n",
       "</table>\n",
       "</div>"
      ],
      "text/plain": [
       "     names  ages\n",
       "2    Luzia    31\n",
       "3    James    32\n",
       "4  Brendan    34"
      ]
     },
     "execution_count": 37,
     "metadata": {},
     "output_type": "execute_result"
    }
   ],
   "source": [
    "new_people_dataframe.iloc[2:5]"
   ]
  },
  {
   "cell_type": "code",
   "execution_count": 40,
   "id": "5f0e7a91-6f10-420f-8328-55e12b455c4b",
   "metadata": {},
   "outputs": [
    {
     "data": {
      "text/html": [
       "<div>\n",
       "<style scoped>\n",
       "    .dataframe tbody tr th:only-of-type {\n",
       "        vertical-align: middle;\n",
       "    }\n",
       "\n",
       "    .dataframe tbody tr th {\n",
       "        vertical-align: top;\n",
       "    }\n",
       "\n",
       "    .dataframe thead th {\n",
       "        text-align: right;\n",
       "    }\n",
       "</style>\n",
       "<table border=\"1\" class=\"dataframe\">\n",
       "  <thead>\n",
       "    <tr style=\"text-align: right;\">\n",
       "      <th></th>\n",
       "      <th>names</th>\n",
       "      <th>ages</th>\n",
       "    </tr>\n",
       "  </thead>\n",
       "  <tbody>\n",
       "    <tr>\n",
       "      <th>2</th>\n",
       "      <td>Luzia</td>\n",
       "      <td>31</td>\n",
       "    </tr>\n",
       "    <tr>\n",
       "      <th>3</th>\n",
       "      <td>James</td>\n",
       "      <td>32</td>\n",
       "    </tr>\n",
       "    <tr>\n",
       "      <th>4</th>\n",
       "      <td>Brendan</td>\n",
       "      <td>34</td>\n",
       "    </tr>\n",
       "  </tbody>\n",
       "</table>\n",
       "</div>"
      ],
      "text/plain": [
       "     names  ages\n",
       "2    Luzia    31\n",
       "3    James    32\n",
       "4  Brendan    34"
      ]
     },
     "execution_count": 40,
     "metadata": {},
     "output_type": "execute_result"
    }
   ],
   "source": [
    "new_people_dataframe.iloc[2:5,[0,1]]"
   ]
  },
  {
   "cell_type": "markdown",
   "id": "12b8cf8f-4638-4215-801a-585a018b7c19",
   "metadata": {},
   "source": [
    "# Summary Dataframes\n",
    "\n",
    "Start using pandas:\n",
    "\n",
    "    $ pip install pandas\n",
    "\n",
    "```\n",
    "import pandas as pd  # To let python know that I want to use this library\n",
    "```\n",
    "\n",
    "```\n",
    "new_dataframe=pd.Dataframe(  some_data  ) # This allows to create a new Dataframe\n",
    "```\n",
    "\n",
    "Some_data can be:\n",
    "\n",
    "- nothing -> Empty DataFrame\n",
    "- tuple   -> 1 column DataFrame\n",
    "- tuple of tuples -> 1 column per subtuple\n",
    "- distionary of tuples -> 1 column per tuple\n",
    "\n",
    "## Properties\n",
    "\n",
    "```\n",
    "my_dataframe.shape -> returns a tuple with numer of rows and columns\n",
    "my_dataframe.ndim  -> returns the number of columns\n",
    "my_dataframe.size  -> returns the number of columns by the number of rows\n",
    "my_dataframe.dtypes  -> returns the datatype of each column\n",
    "my_dataframe.index  -> returns or assigns the values to be used as the ids of the rows . In addition we can use it to loop thru the rows\n",
    "my_dataframe.columns  -> returns or assigns the names of the columns . In addition we can use it to loop thru the columns\n",
    "```\n",
    "\n",
    "## Recover data\n",
    "\n",
    "```\n",
    "my_dataframe['Name of a column] -> returns a column\n",
    "my_dataframe['Name of a column][Numerical id of the row] -> returns a data\n",
    "my_dataframe['Name of a column].iloc[Numerical id of the row] -> returns a data\n",
    "my_dataframe.iloc[Numerical id of the row]['Name of a column] -> returns a data\n",
    "my_dataframe.iloc[Start row id:end row id (not included)]     -> returns a bunch of rows\n",
    "my_dataframe.iloc[Start row id:end row id (not included) , [list with the id of the columns to be retrieved]]\n",
    "my_dataframe.head(number) -> return the first n rows in the dataframe\n",
    "my_dataframe.tail(number) -> return the last n rows in the dataframe\n",
    "```\n",
    "\n",
    "\n"
   ]
  },
  {
   "cell_type": "code",
   "execution_count": 41,
   "id": "d16f1a0b-f350-406c-992a-590e5854c0d1",
   "metadata": {},
   "outputs": [
    {
     "data": {
      "text/html": [
       "<div>\n",
       "<style scoped>\n",
       "    .dataframe tbody tr th:only-of-type {\n",
       "        vertical-align: middle;\n",
       "    }\n",
       "\n",
       "    .dataframe tbody tr th {\n",
       "        vertical-align: top;\n",
       "    }\n",
       "\n",
       "    .dataframe thead th {\n",
       "        text-align: right;\n",
       "    }\n",
       "</style>\n",
       "<table border=\"1\" class=\"dataframe\">\n",
       "  <thead>\n",
       "    <tr style=\"text-align: right;\">\n",
       "      <th></th>\n",
       "      <th>names</th>\n",
       "      <th>ages</th>\n",
       "    </tr>\n",
       "  </thead>\n",
       "  <tbody>\n",
       "    <tr>\n",
       "      <th>0</th>\n",
       "      <td>Alvaro</td>\n",
       "      <td>25</td>\n",
       "    </tr>\n",
       "    <tr>\n",
       "      <th>1</th>\n",
       "      <td>Ana</td>\n",
       "      <td>27</td>\n",
       "    </tr>\n",
       "    <tr>\n",
       "      <th>2</th>\n",
       "      <td>Luzia</td>\n",
       "      <td>31</td>\n",
       "    </tr>\n",
       "    <tr>\n",
       "      <th>3</th>\n",
       "      <td>James</td>\n",
       "      <td>32</td>\n",
       "    </tr>\n",
       "    <tr>\n",
       "      <th>4</th>\n",
       "      <td>Brendan</td>\n",
       "      <td>34</td>\n",
       "    </tr>\n",
       "    <tr>\n",
       "      <th>5</th>\n",
       "      <td>Sarah</td>\n",
       "      <td>35</td>\n",
       "    </tr>\n",
       "  </tbody>\n",
       "</table>\n",
       "</div>"
      ],
      "text/plain": [
       "     names  ages\n",
       "0   Alvaro    25\n",
       "1      Ana    27\n",
       "2    Luzia    31\n",
       "3    James    32\n",
       "4  Brendan    34\n",
       "5    Sarah    35"
      ]
     },
     "execution_count": 41,
     "metadata": {},
     "output_type": "execute_result"
    }
   ],
   "source": [
    "new_people_dataframe"
   ]
  },
  {
   "cell_type": "code",
   "execution_count": 45,
   "id": "b18d6f70-c5b6-4512-a41c-595dbc73d0f3",
   "metadata": {},
   "outputs": [
    {
     "data": {
      "text/plain": [
       "0    25\n",
       "1    27\n",
       "2    31\n",
       "3    32\n",
       "4    34\n",
       "5    35\n",
       "Name: ages, dtype: int64"
      ]
     },
     "execution_count": 45,
     "metadata": {},
     "output_type": "execute_result"
    }
   ],
   "source": [
    "new_people_dataframe['ages']"
   ]
  },
  {
   "cell_type": "code",
   "execution_count": 48,
   "id": "acdc7b2e-b06c-4dfc-b36f-3683ae8ac43d",
   "metadata": {},
   "outputs": [
    {
     "data": {
      "text/plain": [
       "0    50\n",
       "1    54\n",
       "2    62\n",
       "3    64\n",
       "4    68\n",
       "5    70\n",
       "Name: ages, dtype: int64"
      ]
     },
     "execution_count": 48,
     "metadata": {},
     "output_type": "execute_result"
    }
   ],
   "source": [
    "new_column=new_people_dataframe['ages'].apply( lambda age: age*2 ) # This is not updating anything\n",
    "# This creates a new column\n",
    "new_column"
   ]
  },
  {
   "cell_type": "code",
   "execution_count": 49,
   "id": "fb60f436-c63a-4548-b361-8f3a2254f198",
   "metadata": {},
   "outputs": [],
   "source": [
    "new_people_dataframe['double_ages']=new_column"
   ]
  },
  {
   "cell_type": "code",
   "execution_count": 50,
   "id": "2129c6a1-7b43-4e0e-a387-d112f1d5b22d",
   "metadata": {},
   "outputs": [
    {
     "data": {
      "text/html": [
       "<div>\n",
       "<style scoped>\n",
       "    .dataframe tbody tr th:only-of-type {\n",
       "        vertical-align: middle;\n",
       "    }\n",
       "\n",
       "    .dataframe tbody tr th {\n",
       "        vertical-align: top;\n",
       "    }\n",
       "\n",
       "    .dataframe thead th {\n",
       "        text-align: right;\n",
       "    }\n",
       "</style>\n",
       "<table border=\"1\" class=\"dataframe\">\n",
       "  <thead>\n",
       "    <tr style=\"text-align: right;\">\n",
       "      <th></th>\n",
       "      <th>names</th>\n",
       "      <th>ages</th>\n",
       "      <th>double_ages</th>\n",
       "    </tr>\n",
       "  </thead>\n",
       "  <tbody>\n",
       "    <tr>\n",
       "      <th>0</th>\n",
       "      <td>Alvaro</td>\n",
       "      <td>25</td>\n",
       "      <td>50</td>\n",
       "    </tr>\n",
       "    <tr>\n",
       "      <th>1</th>\n",
       "      <td>Ana</td>\n",
       "      <td>27</td>\n",
       "      <td>54</td>\n",
       "    </tr>\n",
       "    <tr>\n",
       "      <th>2</th>\n",
       "      <td>Luzia</td>\n",
       "      <td>31</td>\n",
       "      <td>62</td>\n",
       "    </tr>\n",
       "    <tr>\n",
       "      <th>3</th>\n",
       "      <td>James</td>\n",
       "      <td>32</td>\n",
       "      <td>64</td>\n",
       "    </tr>\n",
       "    <tr>\n",
       "      <th>4</th>\n",
       "      <td>Brendan</td>\n",
       "      <td>34</td>\n",
       "      <td>68</td>\n",
       "    </tr>\n",
       "    <tr>\n",
       "      <th>5</th>\n",
       "      <td>Sarah</td>\n",
       "      <td>35</td>\n",
       "      <td>70</td>\n",
       "    </tr>\n",
       "  </tbody>\n",
       "</table>\n",
       "</div>"
      ],
      "text/plain": [
       "     names  ages  double_ages\n",
       "0   Alvaro    25           50\n",
       "1      Ana    27           54\n",
       "2    Luzia    31           62\n",
       "3    James    32           64\n",
       "4  Brendan    34           68\n",
       "5    Sarah    35           70"
      ]
     },
     "execution_count": 50,
     "metadata": {},
     "output_type": "execute_result"
    }
   ],
   "source": [
    "new_people_dataframe"
   ]
  },
  {
   "cell_type": "code",
   "execution_count": 51,
   "id": "0778c637-92b4-418c-94ce-c43f9cd18131",
   "metadata": {},
   "outputs": [
    {
     "data": {
      "text/html": [
       "<div>\n",
       "<style scoped>\n",
       "    .dataframe tbody tr th:only-of-type {\n",
       "        vertical-align: middle;\n",
       "    }\n",
       "\n",
       "    .dataframe tbody tr th {\n",
       "        vertical-align: top;\n",
       "    }\n",
       "\n",
       "    .dataframe thead th {\n",
       "        text-align: right;\n",
       "    }\n",
       "</style>\n",
       "<table border=\"1\" class=\"dataframe\">\n",
       "  <thead>\n",
       "    <tr style=\"text-align: right;\">\n",
       "      <th></th>\n",
       "      <th>names</th>\n",
       "      <th>ages</th>\n",
       "      <th>double_ages</th>\n",
       "      <th>trible_ages</th>\n",
       "    </tr>\n",
       "  </thead>\n",
       "  <tbody>\n",
       "    <tr>\n",
       "      <th>0</th>\n",
       "      <td>Alvaro</td>\n",
       "      <td>25</td>\n",
       "      <td>50</td>\n",
       "      <td>75</td>\n",
       "    </tr>\n",
       "    <tr>\n",
       "      <th>1</th>\n",
       "      <td>Ana</td>\n",
       "      <td>27</td>\n",
       "      <td>54</td>\n",
       "      <td>81</td>\n",
       "    </tr>\n",
       "    <tr>\n",
       "      <th>2</th>\n",
       "      <td>Luzia</td>\n",
       "      <td>31</td>\n",
       "      <td>62</td>\n",
       "      <td>93</td>\n",
       "    </tr>\n",
       "    <tr>\n",
       "      <th>3</th>\n",
       "      <td>James</td>\n",
       "      <td>32</td>\n",
       "      <td>64</td>\n",
       "      <td>96</td>\n",
       "    </tr>\n",
       "    <tr>\n",
       "      <th>4</th>\n",
       "      <td>Brendan</td>\n",
       "      <td>34</td>\n",
       "      <td>68</td>\n",
       "      <td>102</td>\n",
       "    </tr>\n",
       "    <tr>\n",
       "      <th>5</th>\n",
       "      <td>Sarah</td>\n",
       "      <td>35</td>\n",
       "      <td>70</td>\n",
       "      <td>105</td>\n",
       "    </tr>\n",
       "  </tbody>\n",
       "</table>\n",
       "</div>"
      ],
      "text/plain": [
       "     names  ages  double_ages  trible_ages\n",
       "0   Alvaro    25           50           75\n",
       "1      Ana    27           54           81\n",
       "2    Luzia    31           62           93\n",
       "3    James    32           64           96\n",
       "4  Brendan    34           68          102\n",
       "5    Sarah    35           70          105"
      ]
     },
     "execution_count": 51,
     "metadata": {},
     "output_type": "execute_result"
    }
   ],
   "source": [
    "new_people_dataframe['trible_ages']=new_people_dataframe['ages'].apply( lambda age: age*3 )\n",
    "new_people_dataframe"
   ]
  },
  {
   "cell_type": "code",
   "execution_count": 52,
   "id": "b48c5e97-ce26-44bf-8c22-57c4750dd887",
   "metadata": {},
   "outputs": [],
   "source": [
    "removed_column = new_people_dataframe.pop('trible_ages')"
   ]
  },
  {
   "cell_type": "code",
   "execution_count": 53,
   "id": "45e4c431-2502-4583-ab2b-99bc6afff53a",
   "metadata": {},
   "outputs": [
    {
     "data": {
      "text/html": [
       "<div>\n",
       "<style scoped>\n",
       "    .dataframe tbody tr th:only-of-type {\n",
       "        vertical-align: middle;\n",
       "    }\n",
       "\n",
       "    .dataframe tbody tr th {\n",
       "        vertical-align: top;\n",
       "    }\n",
       "\n",
       "    .dataframe thead th {\n",
       "        text-align: right;\n",
       "    }\n",
       "</style>\n",
       "<table border=\"1\" class=\"dataframe\">\n",
       "  <thead>\n",
       "    <tr style=\"text-align: right;\">\n",
       "      <th></th>\n",
       "      <th>names</th>\n",
       "      <th>ages</th>\n",
       "      <th>double_ages</th>\n",
       "    </tr>\n",
       "  </thead>\n",
       "  <tbody>\n",
       "    <tr>\n",
       "      <th>0</th>\n",
       "      <td>Alvaro</td>\n",
       "      <td>25</td>\n",
       "      <td>50</td>\n",
       "    </tr>\n",
       "    <tr>\n",
       "      <th>1</th>\n",
       "      <td>Ana</td>\n",
       "      <td>27</td>\n",
       "      <td>54</td>\n",
       "    </tr>\n",
       "    <tr>\n",
       "      <th>2</th>\n",
       "      <td>Luzia</td>\n",
       "      <td>31</td>\n",
       "      <td>62</td>\n",
       "    </tr>\n",
       "    <tr>\n",
       "      <th>3</th>\n",
       "      <td>James</td>\n",
       "      <td>32</td>\n",
       "      <td>64</td>\n",
       "    </tr>\n",
       "    <tr>\n",
       "      <th>4</th>\n",
       "      <td>Brendan</td>\n",
       "      <td>34</td>\n",
       "      <td>68</td>\n",
       "    </tr>\n",
       "    <tr>\n",
       "      <th>5</th>\n",
       "      <td>Sarah</td>\n",
       "      <td>35</td>\n",
       "      <td>70</td>\n",
       "    </tr>\n",
       "  </tbody>\n",
       "</table>\n",
       "</div>"
      ],
      "text/plain": [
       "     names  ages  double_ages\n",
       "0   Alvaro    25           50\n",
       "1      Ana    27           54\n",
       "2    Luzia    31           62\n",
       "3    James    32           64\n",
       "4  Brendan    34           68\n",
       "5    Sarah    35           70"
      ]
     },
     "execution_count": 53,
     "metadata": {},
     "output_type": "execute_result"
    }
   ],
   "source": [
    "new_people_dataframe"
   ]
  },
  {
   "cell_type": "code",
   "execution_count": 54,
   "id": "945a482d-df6e-4c85-8efd-61b6c97a8169",
   "metadata": {},
   "outputs": [
    {
     "data": {
      "text/plain": [
       "0     75\n",
       "1     81\n",
       "2     93\n",
       "3     96\n",
       "4    102\n",
       "5    105\n",
       "Name: trible_ages, dtype: int64"
      ]
     },
     "execution_count": 54,
     "metadata": {},
     "output_type": "execute_result"
    }
   ],
   "source": [
    "removed_column"
   ]
  },
  {
   "cell_type": "code",
   "execution_count": 57,
   "id": "791d82d0-fdcb-43e9-b73d-bc3804a8addb",
   "metadata": {},
   "outputs": [],
   "source": [
    "new_people_dataframe['names']=new_people_dataframe['names'].apply( lambda name: name.upper() )"
   ]
  },
  {
   "cell_type": "code",
   "execution_count": 58,
   "id": "38fd59c7-49f6-4b10-a15c-5b11cd80bf7b",
   "metadata": {},
   "outputs": [
    {
     "data": {
      "text/html": [
       "<div>\n",
       "<style scoped>\n",
       "    .dataframe tbody tr th:only-of-type {\n",
       "        vertical-align: middle;\n",
       "    }\n",
       "\n",
       "    .dataframe tbody tr th {\n",
       "        vertical-align: top;\n",
       "    }\n",
       "\n",
       "    .dataframe thead th {\n",
       "        text-align: right;\n",
       "    }\n",
       "</style>\n",
       "<table border=\"1\" class=\"dataframe\">\n",
       "  <thead>\n",
       "    <tr style=\"text-align: right;\">\n",
       "      <th></th>\n",
       "      <th>names</th>\n",
       "      <th>ages</th>\n",
       "      <th>double_ages</th>\n",
       "    </tr>\n",
       "  </thead>\n",
       "  <tbody>\n",
       "    <tr>\n",
       "      <th>0</th>\n",
       "      <td>ALVARO</td>\n",
       "      <td>25</td>\n",
       "      <td>50</td>\n",
       "    </tr>\n",
       "    <tr>\n",
       "      <th>1</th>\n",
       "      <td>ANA</td>\n",
       "      <td>27</td>\n",
       "      <td>54</td>\n",
       "    </tr>\n",
       "    <tr>\n",
       "      <th>2</th>\n",
       "      <td>LUZIA</td>\n",
       "      <td>31</td>\n",
       "      <td>62</td>\n",
       "    </tr>\n",
       "    <tr>\n",
       "      <th>3</th>\n",
       "      <td>JAMES</td>\n",
       "      <td>32</td>\n",
       "      <td>64</td>\n",
       "    </tr>\n",
       "    <tr>\n",
       "      <th>4</th>\n",
       "      <td>BRENDAN</td>\n",
       "      <td>34</td>\n",
       "      <td>68</td>\n",
       "    </tr>\n",
       "    <tr>\n",
       "      <th>5</th>\n",
       "      <td>SARAH</td>\n",
       "      <td>35</td>\n",
       "      <td>70</td>\n",
       "    </tr>\n",
       "  </tbody>\n",
       "</table>\n",
       "</div>"
      ],
      "text/plain": [
       "     names  ages  double_ages\n",
       "0   ALVARO    25           50\n",
       "1      ANA    27           54\n",
       "2    LUZIA    31           62\n",
       "3    JAMES    32           64\n",
       "4  BRENDAN    34           68\n",
       "5    SARAH    35           70"
      ]
     },
     "execution_count": 58,
     "metadata": {},
     "output_type": "execute_result"
    }
   ],
   "source": [
    "new_people_dataframe"
   ]
  },
  {
   "cell_type": "code",
   "execution_count": 59,
   "id": "917f86c4-ffbf-4641-a8be-d04f17829c34",
   "metadata": {},
   "outputs": [
    {
     "data": {
      "text/plain": [
       "0     ALVARO\n",
       "1        ANA\n",
       "2      LUZIA\n",
       "3      JAMES\n",
       "4    BRENDAN\n",
       "5      SARAH\n",
       "Name: names, dtype: object"
      ]
     },
     "execution_count": 59,
     "metadata": {},
     "output_type": "execute_result"
    }
   ],
   "source": [
    "new_people_dataframe ['names'].str.upper()"
   ]
  },
  {
   "cell_type": "code",
   "execution_count": 60,
   "id": "abb0c706-86c1-4ec2-91f4-c868211a73d9",
   "metadata": {},
   "outputs": [
    {
     "data": {
      "text/plain": [
       "0    50\n",
       "1    54\n",
       "2    62\n",
       "3    64\n",
       "4    68\n",
       "5    70\n",
       "Name: ages, dtype: int64"
      ]
     },
     "execution_count": 60,
     "metadata": {},
     "output_type": "execute_result"
    }
   ],
   "source": [
    "new_people_dataframe[\"ages\"]*2"
   ]
  },
  {
   "cell_type": "code",
   "execution_count": null,
   "id": "aeff17bf-f3d6-4663-a8be-e7e37ac91a76",
   "metadata": {},
   "outputs": [],
   "source": [
    "# I want a new column, grouping the people by its age:\n",
    "# Older that 30? True | False"
   ]
  },
  {
   "cell_type": "code",
   "execution_count": 61,
   "id": "9fe42978-cfe3-4389-9199-86f4a8d7e7ef",
   "metadata": {},
   "outputs": [
    {
     "data": {
      "text/html": [
       "<div>\n",
       "<style scoped>\n",
       "    .dataframe tbody tr th:only-of-type {\n",
       "        vertical-align: middle;\n",
       "    }\n",
       "\n",
       "    .dataframe tbody tr th {\n",
       "        vertical-align: top;\n",
       "    }\n",
       "\n",
       "    .dataframe thead th {\n",
       "        text-align: right;\n",
       "    }\n",
       "</style>\n",
       "<table border=\"1\" class=\"dataframe\">\n",
       "  <thead>\n",
       "    <tr style=\"text-align: right;\">\n",
       "      <th></th>\n",
       "      <th>names</th>\n",
       "      <th>ages</th>\n",
       "      <th>double_ages</th>\n",
       "      <th>older_than_30</th>\n",
       "    </tr>\n",
       "  </thead>\n",
       "  <tbody>\n",
       "    <tr>\n",
       "      <th>0</th>\n",
       "      <td>ALVARO</td>\n",
       "      <td>25</td>\n",
       "      <td>50</td>\n",
       "      <td>False</td>\n",
       "    </tr>\n",
       "    <tr>\n",
       "      <th>1</th>\n",
       "      <td>ANA</td>\n",
       "      <td>27</td>\n",
       "      <td>54</td>\n",
       "      <td>False</td>\n",
       "    </tr>\n",
       "    <tr>\n",
       "      <th>2</th>\n",
       "      <td>LUZIA</td>\n",
       "      <td>31</td>\n",
       "      <td>62</td>\n",
       "      <td>True</td>\n",
       "    </tr>\n",
       "    <tr>\n",
       "      <th>3</th>\n",
       "      <td>JAMES</td>\n",
       "      <td>32</td>\n",
       "      <td>64</td>\n",
       "      <td>True</td>\n",
       "    </tr>\n",
       "    <tr>\n",
       "      <th>4</th>\n",
       "      <td>BRENDAN</td>\n",
       "      <td>34</td>\n",
       "      <td>68</td>\n",
       "      <td>True</td>\n",
       "    </tr>\n",
       "    <tr>\n",
       "      <th>5</th>\n",
       "      <td>SARAH</td>\n",
       "      <td>35</td>\n",
       "      <td>70</td>\n",
       "      <td>True</td>\n",
       "    </tr>\n",
       "  </tbody>\n",
       "</table>\n",
       "</div>"
      ],
      "text/plain": [
       "     names  ages  double_ages  older_than_30\n",
       "0   ALVARO    25           50          False\n",
       "1      ANA    27           54          False\n",
       "2    LUZIA    31           62           True\n",
       "3    JAMES    32           64           True\n",
       "4  BRENDAN    34           68           True\n",
       "5    SARAH    35           70           True"
      ]
     },
     "execution_count": 61,
     "metadata": {},
     "output_type": "execute_result"
    }
   ],
   "source": [
    "new_people_dataframe['older_than_30']=new_people_dataframe['ages'].apply( lambda age: age >= 30 )\n",
    "new_people_dataframe"
   ]
  },
  {
   "cell_type": "code",
   "execution_count": 69,
   "id": "9bba0947-7c16-42cd-9369-d6af2319fcdc",
   "metadata": {},
   "outputs": [
    {
     "data": {
      "text/plain": [
       "0     True\n",
       "1     True\n",
       "2    False\n",
       "3    False\n",
       "4    False\n",
       "5    False\n",
       "Name: ages, dtype: bool"
      ]
     },
     "execution_count": 69,
     "metadata": {},
     "output_type": "execute_result"
    }
   ],
   "source": [
    "filtering_column = new_people_dataframe['ages'].apply( lambda age: age < 30 )\n",
    "filtering_column"
   ]
  },
  {
   "cell_type": "code",
   "execution_count": 70,
   "id": "a3be4178-3496-4c97-9533-a62c4539ea59",
   "metadata": {},
   "outputs": [
    {
     "data": {
      "text/html": [
       "<div>\n",
       "<style scoped>\n",
       "    .dataframe tbody tr th:only-of-type {\n",
       "        vertical-align: middle;\n",
       "    }\n",
       "\n",
       "    .dataframe tbody tr th {\n",
       "        vertical-align: top;\n",
       "    }\n",
       "\n",
       "    .dataframe thead th {\n",
       "        text-align: right;\n",
       "    }\n",
       "</style>\n",
       "<table border=\"1\" class=\"dataframe\">\n",
       "  <thead>\n",
       "    <tr style=\"text-align: right;\">\n",
       "      <th></th>\n",
       "      <th>names</th>\n",
       "      <th>ages</th>\n",
       "      <th>double_ages</th>\n",
       "      <th>older_than_30</th>\n",
       "    </tr>\n",
       "  </thead>\n",
       "  <tbody>\n",
       "    <tr>\n",
       "      <th>0</th>\n",
       "      <td>ALVARO</td>\n",
       "      <td>25</td>\n",
       "      <td>50</td>\n",
       "      <td>False</td>\n",
       "    </tr>\n",
       "    <tr>\n",
       "      <th>1</th>\n",
       "      <td>ANA</td>\n",
       "      <td>27</td>\n",
       "      <td>54</td>\n",
       "      <td>False</td>\n",
       "    </tr>\n",
       "  </tbody>\n",
       "</table>\n",
       "</div>"
      ],
      "text/plain": [
       "    names  ages  double_ages  older_than_30\n",
       "0  ALVARO    25           50          False\n",
       "1     ANA    27           54          False"
      ]
     },
     "execution_count": 70,
     "metadata": {},
     "output_type": "execute_result"
    }
   ],
   "source": [
    "new_people_dataframe[ filtering_column ]"
   ]
  },
  {
   "cell_type": "code",
   "execution_count": 74,
   "id": "e249a0fd-a010-4299-8fb1-0c99d754d921",
   "metadata": {},
   "outputs": [
    {
     "data": {
      "text/plain": [
       "0     True\n",
       "1     True\n",
       "2     True\n",
       "3     True\n",
       "4    False\n",
       "5     True\n",
       "Name: ages, dtype: bool"
      ]
     },
     "execution_count": 74,
     "metadata": {},
     "output_type": "execute_result"
    }
   ],
   "source": [
    "new_people_dataframe['ages'] != 34 # >= > <= < == !="
   ]
  },
  {
   "cell_type": "code",
   "execution_count": 77,
   "id": "f1d1ce4f-c669-42d3-913a-e64bfc507cba",
   "metadata": {},
   "outputs": [
    {
     "data": {
      "text/plain": [
       "0     alvaro\n",
       "1        ANA\n",
       "2      luzia\n",
       "3      james\n",
       "4    BRENDAN\n",
       "5      sarah\n",
       "Name: names, dtype: object"
      ]
     },
     "execution_count": 77,
     "metadata": {},
     "output_type": "execute_result"
    }
   ],
   "source": [
    "import re\n",
    "\n",
    "def myTransformationFunction(value):\n",
    "    #if re.match(\".*[Nn]\", value):\n",
    "    #    return value.upper()\n",
    "    #else:\n",
    "    #    return value.lower()\n",
    "    return value.upper() if re.match(\".*[Nn]\", value) else value.lower()\n",
    "\n",
    "    \n",
    "new_people_dataframe['names'].apply( lambda value : value.upper() if re.match(\".*[Nn]\", value) else value.lower() )"
   ]
  },
  {
   "cell_type": "code",
   "execution_count": null,
   "id": "e8df826e-9f3a-4b4e-8217-6c1fb1bcaa5e",
   "metadata": {},
   "outputs": [],
   "source": []
  }
 ],
 "metadata": {
  "kernelspec": {
   "display_name": "Python 3 (ipykernel)",
   "language": "python",
   "name": "python3"
  },
  "language_info": {
   "codemirror_mode": {
    "name": "ipython",
    "version": 3
   },
   "file_extension": ".py",
   "mimetype": "text/x-python",
   "name": "python",
   "nbconvert_exporter": "python",
   "pygments_lexer": "ipython3",
   "version": "3.9.10"
  }
 },
 "nbformat": 4,
 "nbformat_minor": 5
}
