{
 "cells": [
  {
   "cell_type": "markdown",
   "id": "9be9ece1-4f11-4b77-b1b1-00672703b172",
   "metadata": {},
   "source": [
    "# Title\n",
    "\n",
    "## Subtitle\n",
    "\n",
    "### Third level header\n",
    "\n",
    "#### Sub-sub-sub header\n",
    "\n",
    "##### This is the lowest level that we can use as a header\n",
    "\n",
    "This is a text line.\n",
    "This is another one.\n",
    "\n",
    "This is a new paragraph.\n",
    "\n",
    "Ordered list:\n",
    "\n",
    "1. Item 1\n",
    "\n",
    "1. Item 2\n",
    "\n",
    "   More about this item.\n",
    "\n",
    "1. Item 3.... has another list inside:\n",
    "\n",
    "   1. Subitem 1\n",
    "   2. Subitem 2\n",
    "\n",
    "Unordered lists:\n",
    "\n",
    "- Item 1\n",
    "- Item 2\n",
    "\n",
    "Links:\n",
    "\n",
    "We can write links in the middle of [Click here to access google](https://google.com) a text.\n",
    "\n",
    "Text styles:\n",
    "\n",
    "Code: we are going to extract some data from table: `mytable`.\n",
    "\n",
    "Italic: *This words* appears as italic.\n",
    "\n",
    "Bold: **This words** appears bolded.\n",
    "\n",
    "To mark some really important text you can write 3 asterics ***This is an important text***.\n",
    "\n",
    "This is my query:\n",
    "\n",
    "This is a block of code:\n",
    "\n",
    "```\n",
    "SELECT \n",
    "    column1, column2\n",
    "FROM\n",
    "    mytable\n",
    "```"
   ]
  },
  {
   "cell_type": "markdown",
   "id": "21db34e6-ab8d-4820-82c0-22ae53d85679",
   "metadata": {},
   "source": [
    "## Tables\n",
    "\n",
    "| Column1 | Column2 is going to have a bigger header | Same happens with Column3 |\n",
    "| - | -: | :-: |\n",
    "| Data 1 | more info on data 1 | And even more |\n",
    "| Data 2 | more info on data 2 | And even more |\n"
   ]
  },
  {
   "cell_type": "markdown",
   "id": "0e910f26-ccd7-42f2-b2a8-8d5b5bd63c69",
   "metadata": {},
   "source": [
    "## Images\n",
    "\n",
    "![This is a python icon image](https://upload.wikimedia.org/wikipedia/commons/thumb/0/0a/Python.svg/768px-Python.svg.png)"
   ]
  },
  {
   "cell_type": "code",
   "execution_count": null,
   "id": "31ccddd8-2e39-4252-98e4-38ac7b800ede",
   "metadata": {},
   "outputs": [],
   "source": []
  }
 ],
 "metadata": {
  "kernelspec": {
   "display_name": "Python 3 (ipykernel)",
   "language": "python",
   "name": "python3"
  },
  "language_info": {
   "codemirror_mode": {
    "name": "ipython",
    "version": 3
   },
   "file_extension": ".py",
   "mimetype": "text/x-python",
   "name": "python",
   "nbconvert_exporter": "python",
   "pygments_lexer": "ipython3",
   "version": "3.9.10"
  }
 },
 "nbformat": 4,
 "nbformat_minor": 5
}
