{
 "cells": [
  {
   "cell_type": "markdown",
   "id": "5d71c1c7-819a-4657-b916-834cc3fcf9f1",
   "metadata": {
    "tags": []
   },
   "source": [
    "# What is Python?\n",
    "\n",
    "Python is a general purpose programming language, used to:\n",
    "\n",
    "- Create Web apps\n",
    "- Create games\n",
    "- Make scripts\n",
    "- Data manipulation\n",
    "\n",
    "Why is python a language? Has a:\n",
    "\n",
    "- Syntax\n",
    "- Grammar\n",
    "- Semantics\n",
    "\n",
    "2 kind of programming languages:\n",
    "\n",
    "- Static Typing PL: that are really strict when they are dealing with data. Whenever we want to access, define, transform data, where need to specify the type of data that we are going to be using.\n",
    "- Dynamic typing PL: that doesn't require from us to specify the datatypes. < Python\n",
    "\n",
    "## A program \n",
    "\n",
    "Just a document written in a specific programming language, that we use to give to out computer instructions.\n",
    "\n",
    "## Data.. and how data is stored or represented within a computer\n",
    "\n",
    "Computers understand dual states.\n",
    "\n",
    "Minimum ammount of information a computer can manage is called? bit\n",
    "\n",
    "Within a bit we can store up to 2 different values: 0 or 1.\n",
    "Is it raining? 1 -> YES    0 -> NO\n",
    "Bits are usuarlly packed in a sequence of 8 bits: 1 byte.\n",
    "\n",
    "Within a byte we can store up to ??? different values: \n",
    "2^8=256 different values.\n",
    "\n",
    "How old a person is?\n",
    "\n",
    "- 0000 0000 -> 0 years old\n",
    "- 0000 0001 -> 1 years old\n",
    "- 0000 0010 -> 2 years old\n",
    "- 0000 0011 -> 3 years old\n",
    "\n",
    "The computer needs to know the nature of the data: The datatype. Why?\n",
    "\n",
    "- To know how many different values can be stored or assiciated with a data.\n",
    "- To know how to perform certain operations \n",
    "\n",
    "Python is going to guess the datatype depending on the syntax\n",
    "\n",
    "## Datatype\n",
    "\n",
    "Datatypes:\n",
    "\n",
    "- Number\n",
    "- String\n",
    "- Date\n",
    "- Booleans: Logical value: Yes/No On/Off True/False Raining/NotRaining\n",
    "\n",
    "## Python grammar\n",
    "\n",
    "- Data: Noum\n",
    "- Variables: vars\n",
    "- Functions: Verb\n",
    "- Operations: Verb\n",
    "- keyword...\n",
    "  - Flow Control\n",
    "\n",
    "## Python datatypes syntax\n",
    "\n",
    "### Simple datatypes\n",
    "\n",
    "#### Numbers\n",
    "\n",
    "```\n",
    "17\n",
    "43\n",
    "-14.7\n",
    "```\n",
    "\n",
    "#### Logical values: Booleans\n",
    "\n",
    "```\n",
    "True\n",
    "False\n",
    "```\n",
    "\n",
    "#### Texts: Strings of characters\n",
    "\n",
    "```\n",
    "'This a text'\n",
    "\"This a text\"\n",
    "\n",
    "\"\"\"\n",
    "Multiple \n",
    "lines \n",
    "text\n",
    "\"\"\"\n",
    "```\n"
   ]
  },
  {
   "cell_type": "markdown",
   "id": "74bbb105-a5c1-4f9b-b4f7-c5e9c6ff478c",
   "metadata": {},
   "source": [
    "### Complex datatypes: Collections of data\n",
    "\n",
    "#### Tuples\n",
    "\n",
    "Simple sequence of ordered items. Whenever I want to refer to an item, I use its position in the tuple\n",
    "\n",
    "```\n",
    "(10,15,20,25)\n",
    "(True, False, True, False, False)\n",
    "(\"Hi\", \"my\", \"name\", \"is\", \"Ivan\")\n",
    "(True, \"I\", \"am\", 43 )\n",
    "```\n",
    "\n",
    "The number 10 is the first item in the tuple: The first item is the item at position 0.\n",
    "\n",
    "Item in a tuple are not updatable:\n",
    "\n",
    "We cannot:\n",
    "- change its value\n",
    "- remove them from the tuple\n",
    "- or add new elements\n",
    "\n",
    "#### Lists\n",
    "\n",
    "Simple sequence of ordered items. Whenever I want to refer to an item, I use its position in the list\n",
    "\n",
    "```\n",
    "[10,15,20,25]\n",
    "[True, False, True, False, False]\n",
    "[\"Hi\", \"my\", \"name\", \"is\", \"Ivan\"]\n",
    "[True, \"I\", \"am\", 43]\n",
    "```\n",
    "\n",
    "#### Dictionaries\n",
    "\n",
    "Simple sequence of ordered items. Whenever I want to refer to an item, I use a key, that I have previously defined.\n",
    "\n",
    "```\n",
    "{\"age\": 10, \"numer-of-children\": 15, \"salary\": 20}\n",
    "```\n",
    "\n",
    "## Out first program:\n",
    "\n",
    "Hey computer, please, place the number 17 in your memory (RAM).\n",
    "\n",
    "RAM: Imagine a notebook. Thats the memory of a computer. The memory is managed by the Operating System (Windows, linux)."
   ]
  },
  {
   "cell_type": "code",
   "execution_count": 1,
   "id": "aeaba566-563e-4079-a8fe-800d21a2862d",
   "metadata": {},
   "outputs": [
    {
     "data": {
      "text/plain": [
       "17"
      ]
     },
     "execution_count": 1,
     "metadata": {},
     "output_type": "execute_result"
    }
   ],
   "source": [
    "17"
   ]
  },
  {
   "cell_type": "markdown",
   "id": "79fe1225-3c0f-4984-aa01-a67d7404cc4e",
   "metadata": {},
   "source": [
    "## Var\n",
    "\n",
    "Name that we can use to refer to a value stored in the memory. Like a postit (note).\n",
    "\n",
    "We just need to type the name that we want for the var.\n"
   ]
  },
  {
   "cell_type": "code",
   "execution_count": 2,
   "id": "f3d3399b-6473-4977-9117-c1c00e94b643",
   "metadata": {},
   "outputs": [],
   "source": [
    "myvar = 17"
   ]
  },
  {
   "cell_type": "markdown",
   "id": "2c4010f6-2478-4252-b07f-207b938c016e",
   "metadata": {},
   "source": [
    "I have said 3 different things in this line o code:\n",
    "\n",
    "1. \"17\"    -> Please, place this number in the memory\n",
    "2. \"myvar\" -> Please, create a postit, with this name (myvar) written on top.\n",
    "3. \"=\"     -> Assignment operator. Please, paste that postit /the one you created before) by the side of the number 17"
   ]
  },
  {
   "cell_type": "code",
   "execution_count": 3,
   "id": "bde541f4-9054-4bcf-9a28-d30d0ce89625",
   "metadata": {},
   "outputs": [
    {
     "data": {
      "text/plain": [
       "17"
      ]
     },
     "execution_count": 3,
     "metadata": {},
     "output_type": "execute_result"
    }
   ],
   "source": [
    "myvar"
   ]
  },
  {
   "cell_type": "code",
   "execution_count": 4,
   "id": "078748df-d2a5-4d4a-aadb-bc9fffbedea3",
   "metadata": {},
   "outputs": [],
   "source": [
    "myvar = 18"
   ]
  },
  {
   "cell_type": "markdown",
   "id": "87fad4e7-baa9-4375-a676-3abe84f5c039",
   "metadata": {},
   "source": [
    "I have said 2 different things in this line o code:\n",
    "\n",
    "1. \"18\"    -> Please, place this number in the memory\n",
    "3. \"=\"     -> Please vary the position of the postit. \n",
    "\n",
    "At this moment... how many things are being stored in the computer's memory?\n",
    "- 17\n",
    "- 18 < myvar\n",
    "\n",
    "At certain point , Python is going to remove the 17 number from the memory (garbage collector). Because the is no var pointing to it. So it is marked as garbage."
   ]
  },
  {
   "cell_type": "markdown",
   "id": "5385b812-8df5-4152-b6e5-db37e55a7ddf",
   "metadata": {},
   "source": [
    "## Operators in python\n",
    "\n",
    "### Operators to be used with numbers\n",
    "- Plus: +\n",
    "- Minus: -\n",
    "- Times: *\n",
    "- Divided by: /              5/4   < 1,25\n",
    "- Integer division //        5//4  < 1\n",
    "- Remainder %                5%4   < 1\n",
    "\n",
    "    9  | 4\n",
    "       -----\n",
    "   -8    2 > Result of the integer division\n",
    "    1 > Remainder\n",
    "\n",
    "```\n",
    "2 + 2      \n",
    "2 - 1 \n",
    "```\n",
    "\n",
    "### Relational operators \n",
    "\n",
    "Those return a boolean: True or False\n",
    "\n",
    "```\n",
    "3 == 5     # False\n",
    "3 != 5     # True\n",
    "3 > 5      # False\n",
    "3 < 5      # True\n",
    "3 >= 5     # False\n",
    "3 <= 5     # True\n",
    "```\n",
    "\n",
    "### Logical operators\n",
    "\n",
    "Those return a boolean too: True or False\n",
    "\n",
    "But its arguments (the things around the operator) must be booleans also.\n",
    "\n",
    "```\n",
    "3 > 5 and 7 > 9 #  It returns True if both arguments are True, only.\n",
    "3 > 5 or 7 > 9  #  It returns True if any of the arguments is True.\n",
    "not 3 > 5    \n",
    "```\n",
    "\n",
    "### Texts operators\n",
    "\n",
    "Are operations that return a Text\n",
    "\n",
    "```\n",
    "'Ivan' + 'Osuna'    # Concat 'IvanOsuna'\n",
    "'Ivan' * 3          # Returns 'IvanIvanIvan'\n",
    "```\n",
    "### Assignment Operators\n",
    "\n",
    "- Assigment operator \"=\"\n"
   ]
  },
  {
   "cell_type": "code",
   "execution_count": 5,
   "id": "2455ae20-2f5e-4f94-9a87-75a8a992596c",
   "metadata": {},
   "outputs": [],
   "source": [
    "myvar=4"
   ]
  },
  {
   "cell_type": "code",
   "execution_count": 6,
   "id": "a7a09552-4d94-4b2a-8198-fd2831b0f5fc",
   "metadata": {},
   "outputs": [
    {
     "data": {
      "text/plain": [
       "4"
      ]
     },
     "execution_count": 6,
     "metadata": {},
     "output_type": "execute_result"
    }
   ],
   "source": [
    "myvar"
   ]
  },
  {
   "cell_type": "code",
   "execution_count": 7,
   "id": "725050ea-e48f-4f8c-8eb8-71d683409f0a",
   "metadata": {},
   "outputs": [],
   "source": [
    "myvar += 2"
   ]
  },
  {
   "cell_type": "code",
   "execution_count": 8,
   "id": "56093585-4009-4caa-b4fd-fc47fd75232a",
   "metadata": {},
   "outputs": [
    {
     "data": {
      "text/plain": [
       "6"
      ]
     },
     "execution_count": 8,
     "metadata": {},
     "output_type": "execute_result"
    }
   ],
   "source": [
    "myvar"
   ]
  },
  {
   "cell_type": "code",
   "execution_count": 9,
   "id": "ff7f722b-ef2e-4b21-9c5e-313e143d2a09",
   "metadata": {},
   "outputs": [],
   "source": [
    "myvar -= 2\n",
    "myvar *= 2\n",
    "myvar /= 2"
   ]
  },
  {
   "cell_type": "code",
   "execution_count": 10,
   "id": "48e177ca-4743-491f-bfba-d6f9a616cbf6",
   "metadata": {},
   "outputs": [
    {
     "data": {
      "text/plain": [
       "4.0"
      ]
     },
     "execution_count": 10,
     "metadata": {},
     "output_type": "execute_result"
    }
   ],
   "source": [
    "myvar"
   ]
  },
  {
   "cell_type": "markdown",
   "id": "879ecf3b-8ed0-4f44-bc7b-a3faeeb22da7",
   "metadata": {},
   "source": [
    "## Python integrated functions\n",
    "\n",
    "Every single function defined in python is called (execute) by placing a brackets after the function name.\n",
    "\n",
    "Depending on the function, arguments may be needed, and are supplied between the brakets\n",
    "\n",
    "### print\n",
    "\n",
    "Allows us to (output) print to the console a value (a text)."
   ]
  },
  {
   "cell_type": "code",
   "execution_count": 11,
   "id": "1a5352e0-2abf-4be4-816b-25cd991a6a80",
   "metadata": {},
   "outputs": [
    {
     "name": "stdout",
     "output_type": "stream",
     "text": [
      "Hi Python\n"
     ]
    }
   ],
   "source": [
    "print(\"Hi Python\")"
   ]
  },
  {
   "cell_type": "code",
   "execution_count": 12,
   "id": "8987f9c5-b9fc-4e76-ac9f-92ad8bb9606d",
   "metadata": {},
   "outputs": [
    {
     "name": "stdout",
     "output_type": "stream",
     "text": [
      "Hi Ivan\n"
     ]
    }
   ],
   "source": [
    "name = \"Ivan\"\n",
    "print(\"Hi \"+ name)"
   ]
  },
  {
   "cell_type": "markdown",
   "id": "cacd140f-649d-41cd-9f5e-823d00260386",
   "metadata": {},
   "source": [
    "## range\n",
    "\n",
    "Allow us to create a tuple with a bunch of items... Actually numbers, sequential numbers\n",
    "\n",
    "```\n",
    "range(1, 200)      # Here we are using the default step: 1\n",
    "range(1, 200, 4)   # The third argument specifies the step between items\n",
    "\n",
    "```"
   ]
  },
  {
   "cell_type": "markdown",
   "id": "768888c1-c438-4b6c-b0ac-e4c814e65867",
   "metadata": {},
   "source": [
    "### Data convertion functions\n",
    "\n",
    "* Note: the name that I wrote for my var is written in Snake_Case\n",
    "\n",
    "- str( VALUE )   < Convert to text\n",
    "- int( VALUE )   < Convert to integer\n",
    "- float( VALUE ) < Convert to decimal value\n",
    "- bool( VALUE )  < Convert to boolean\n",
    "\n"
   ]
  },
  {
   "cell_type": "code",
   "execution_count": 19,
   "id": "7bf6927a-7703-4dc3-bfed-3887464b438f",
   "metadata": {},
   "outputs": [
    {
     "data": {
      "text/plain": [
       "15"
      ]
     },
     "execution_count": 19,
     "metadata": {},
     "output_type": "execute_result"
    }
   ],
   "source": [
    "a_value_that_i_read_from_a_database = \"3\"\n",
    "\n",
    "int(a_value_that_i_read_from_a_database) * 5"
   ]
  },
  {
   "cell_type": "code",
   "execution_count": 20,
   "id": "850dd45e-3e14-4e80-99aa-838c602adf14",
   "metadata": {},
   "outputs": [
    {
     "name": "stdout",
     "output_type": "stream",
     "text": [
      "Ivan has 43 years old\n"
     ]
    }
   ],
   "source": [
    "age= 43\n",
    "print('Ivan has ' + str(age) + ' years old')"
   ]
  },
  {
   "cell_type": "markdown",
   "id": "add034f7-7d60-4ce0-b0a6-6a0a35eb2e32",
   "metadata": {},
   "source": [
    "## Mathematical & Stat functions\n"
   ]
  },
  {
   "cell_type": "code",
   "execution_count": 22,
   "id": "c63e67f7-5974-4749-89d2-454ac19aa474",
   "metadata": {},
   "outputs": [
    {
     "data": {
      "text/plain": [
       "12"
      ]
     },
     "execution_count": 22,
     "metadata": {},
     "output_type": "execute_result"
    }
   ],
   "source": [
    "max(1,2,5,12)"
   ]
  },
  {
   "cell_type": "code",
   "execution_count": 23,
   "id": "5f54983d-357f-4ed5-a1d1-a1c447042606",
   "metadata": {},
   "outputs": [
    {
     "data": {
      "text/plain": [
       "1"
      ]
     },
     "execution_count": 23,
     "metadata": {},
     "output_type": "execute_result"
    }
   ],
   "source": [
    "min(1,2,5,12)"
   ]
  },
  {
   "cell_type": "markdown",
   "id": "2cb095f6-8ce5-4e09-bd9c-7609dfe2e51a",
   "metadata": {},
   "source": [
    "# Python syntax and BRACKETS\n",
    "\n",
    "- Calling functions : print(something)\n",
    "- Defining tuples:    (1,2,3,4)\n",
    "- Group operators and functions / Precedence:\n",
    "  \n",
    "  2 + 3 * 5     #  17\n",
    "  (2 + 3) * 5   #  25\n",
    "\n",
    "## Guess?\n",
    "\n",
    "- (1,5,6)       < Defining a tuple\n",
    "- print(\"Hola\") < Calling a function\n",
    "- (3+5)         < Grouping operators\n",
    "- (-3)          < Grouping operators\n",
    "- (3)           < Grouping operators\n",
    "- (3,2,4,)      < Defining a tuple\n",
    "- (3,2,4)       < Defining a tuple\n",
    "- (3,)          < Defining a tuple     *** Special case in python syntax\n"
   ]
  },
  {
   "cell_type": "code",
   "execution_count": null,
   "id": "bba844c1-c490-46fb-9549-ff38f79a0cbb",
   "metadata": {},
   "outputs": [],
   "source": []
  }
 ],
 "metadata": {
  "kernelspec": {
   "display_name": "Python 3 (ipykernel)",
   "language": "python",
   "name": "python3"
  },
  "language_info": {
   "codemirror_mode": {
    "name": "ipython",
    "version": 3
   },
   "file_extension": ".py",
   "mimetype": "text/x-python",
   "name": "python",
   "nbconvert_exporter": "python",
   "pygments_lexer": "ipython3",
   "version": "3.9.10"
  }
 },
 "nbformat": 4,
 "nbformat_minor": 5
}
