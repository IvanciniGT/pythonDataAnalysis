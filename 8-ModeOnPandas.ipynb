{
 "cells": [
  {
   "cell_type": "code",
   "execution_count": 2,
   "id": "f548d593-6bdb-472b-a4ec-5716fe613658",
   "metadata": {},
   "outputs": [
    {
     "data": {
      "text/html": [
       "<div>\n",
       "<style scoped>\n",
       "    .dataframe tbody tr th:only-of-type {\n",
       "        vertical-align: middle;\n",
       "    }\n",
       "\n",
       "    .dataframe tbody tr th {\n",
       "        vertical-align: top;\n",
       "    }\n",
       "\n",
       "    .dataframe thead th {\n",
       "        text-align: right;\n",
       "    }\n",
       "</style>\n",
       "<table border=\"1\" class=\"dataframe\">\n",
       "  <thead>\n",
       "    <tr style=\"text-align: right;\">\n",
       "      <th></th>\n",
       "      <th>names</th>\n",
       "      <th>ages</th>\n",
       "    </tr>\n",
       "  </thead>\n",
       "  <tbody>\n",
       "    <tr>\n",
       "      <th>0</th>\n",
       "      <td>Alvaro</td>\n",
       "      <td>25.0</td>\n",
       "    </tr>\n",
       "    <tr>\n",
       "      <th>1</th>\n",
       "      <td>Ana</td>\n",
       "      <td>26.0</td>\n",
       "    </tr>\n",
       "    <tr>\n",
       "      <th>2</th>\n",
       "      <td>Luzia</td>\n",
       "      <td>25.0</td>\n",
       "    </tr>\n",
       "    <tr>\n",
       "      <th>3</th>\n",
       "      <td>James</td>\n",
       "      <td>32.0</td>\n",
       "    </tr>\n",
       "    <tr>\n",
       "      <th>4</th>\n",
       "      <td>Brendan</td>\n",
       "      <td>34.0</td>\n",
       "    </tr>\n",
       "    <tr>\n",
       "      <th>5</th>\n",
       "      <td>Sarah</td>\n",
       "      <td>NaN</td>\n",
       "    </tr>\n",
       "  </tbody>\n",
       "</table>\n",
       "</div>"
      ],
      "text/plain": [
       "     names  ages\n",
       "0   Alvaro  25.0\n",
       "1      Ana  26.0\n",
       "2    Luzia  25.0\n",
       "3    James  32.0\n",
       "4  Brendan  34.0\n",
       "5    Sarah   NaN"
      ]
     },
     "execution_count": 2,
     "metadata": {},
     "output_type": "execute_result"
    }
   ],
   "source": [
    "import numpy  as np\n",
    "#pip install numpy\n",
    "#pip3 install numpy\n",
    "\n",
    "import pandas as pd\n",
    "\n",
    "people = {\n",
    "    \"names\": ('Alvaro', 'Ana', 'Luzia', 'James', 'Brendan', 'Sarah'),\n",
    "    \"ages\": (25, 26, 25, 32, 34, np.NaN)\n",
    "}\n",
    "new_people_dataframe = pd.DataFrame(people)\n",
    "new_people_dataframe"
   ]
  },
  {
   "cell_type": "code",
   "execution_count": 5,
   "id": "149e23a8-2486-46d1-9fd7-8e7886332cff",
   "metadata": {},
   "outputs": [
    {
     "data": {
      "text/plain": [
       "0    False\n",
       "1    False\n",
       "2    False\n",
       "3    False\n",
       "4    False\n",
       "5     True\n",
       "Name: ages, dtype: bool"
      ]
     },
     "execution_count": 5,
     "metadata": {},
     "output_type": "execute_result"
    }
   ],
   "source": [
    "np.NaN # To refer to values not available in out dataframe. Missing values\n",
    "\n",
    "new_people_dataframe['ages'].isna()"
   ]
  },
  {
   "cell_type": "code",
   "execution_count": 6,
   "id": "fc920878-0162-4352-b88a-2a77f6f965cb",
   "metadata": {},
   "outputs": [
    {
     "data": {
      "text/html": [
       "<div>\n",
       "<style scoped>\n",
       "    .dataframe tbody tr th:only-of-type {\n",
       "        vertical-align: middle;\n",
       "    }\n",
       "\n",
       "    .dataframe tbody tr th {\n",
       "        vertical-align: top;\n",
       "    }\n",
       "\n",
       "    .dataframe thead th {\n",
       "        text-align: right;\n",
       "    }\n",
       "</style>\n",
       "<table border=\"1\" class=\"dataframe\">\n",
       "  <thead>\n",
       "    <tr style=\"text-align: right;\">\n",
       "      <th></th>\n",
       "      <th>names</th>\n",
       "      <th>ages</th>\n",
       "    </tr>\n",
       "  </thead>\n",
       "  <tbody>\n",
       "    <tr>\n",
       "      <th>5</th>\n",
       "      <td>Sarah</td>\n",
       "      <td>NaN</td>\n",
       "    </tr>\n",
       "  </tbody>\n",
       "</table>\n",
       "</div>"
      ],
      "text/plain": [
       "   names  ages\n",
       "5  Sarah   NaN"
      ]
     },
     "execution_count": 6,
     "metadata": {},
     "output_type": "execute_result"
    }
   ],
   "source": [
    "new_people_dataframe[new_people_dataframe['ages'].isna()]"
   ]
  },
  {
   "cell_type": "code",
   "execution_count": 9,
   "id": "314bbbe8-09a7-440a-aab5-4dcebfa2488a",
   "metadata": {},
   "outputs": [
    {
     "data": {
      "text/plain": [
       "0    25.0\n",
       "1    26.0\n",
       "2    25.0\n",
       "3    32.0\n",
       "4    34.0\n",
       "5   -99.0\n",
       "Name: ages, dtype: float64"
      ]
     },
     "execution_count": 9,
     "metadata": {},
     "output_type": "execute_result"
    }
   ],
   "source": [
    "#new_people_dataframe['ages']=new_people_dataframe['ages'].fillna(-99)\n",
    "new_people_dataframe['ages'].fillna(-99)"
   ]
  },
  {
   "cell_type": "code",
   "execution_count": 10,
   "id": "070d904e-58c5-4737-9379-63857c62daff",
   "metadata": {},
   "outputs": [
    {
     "data": {
      "text/html": [
       "<div>\n",
       "<style scoped>\n",
       "    .dataframe tbody tr th:only-of-type {\n",
       "        vertical-align: middle;\n",
       "    }\n",
       "\n",
       "    .dataframe tbody tr th {\n",
       "        vertical-align: top;\n",
       "    }\n",
       "\n",
       "    .dataframe thead th {\n",
       "        text-align: right;\n",
       "    }\n",
       "</style>\n",
       "<table border=\"1\" class=\"dataframe\">\n",
       "  <thead>\n",
       "    <tr style=\"text-align: right;\">\n",
       "      <th></th>\n",
       "      <th>names</th>\n",
       "      <th>ages</th>\n",
       "    </tr>\n",
       "  </thead>\n",
       "  <tbody>\n",
       "    <tr>\n",
       "      <th>0</th>\n",
       "      <td>Alvaro</td>\n",
       "      <td>25.0</td>\n",
       "    </tr>\n",
       "    <tr>\n",
       "      <th>1</th>\n",
       "      <td>Ana</td>\n",
       "      <td>26.0</td>\n",
       "    </tr>\n",
       "    <tr>\n",
       "      <th>2</th>\n",
       "      <td>Luzia</td>\n",
       "      <td>25.0</td>\n",
       "    </tr>\n",
       "    <tr>\n",
       "      <th>3</th>\n",
       "      <td>James</td>\n",
       "      <td>32.0</td>\n",
       "    </tr>\n",
       "    <tr>\n",
       "      <th>4</th>\n",
       "      <td>Brendan</td>\n",
       "      <td>34.0</td>\n",
       "    </tr>\n",
       "    <tr>\n",
       "      <th>5</th>\n",
       "      <td>Sarah</td>\n",
       "      <td>NaN</td>\n",
       "    </tr>\n",
       "  </tbody>\n",
       "</table>\n",
       "</div>"
      ],
      "text/plain": [
       "     names  ages\n",
       "0   Alvaro  25.0\n",
       "1      Ana  26.0\n",
       "2    Luzia  25.0\n",
       "3    James  32.0\n",
       "4  Brendan  34.0\n",
       "5    Sarah   NaN"
      ]
     },
     "execution_count": 10,
     "metadata": {},
     "output_type": "execute_result"
    }
   ],
   "source": [
    "new_people_dataframe"
   ]
  },
  {
   "cell_type": "code",
   "execution_count": 15,
   "id": "7f7ed950-1617-4224-af50-69322d68350c",
   "metadata": {},
   "outputs": [
    {
     "data": {
      "text/html": [
       "<div>\n",
       "<style scoped>\n",
       "    .dataframe tbody tr th:only-of-type {\n",
       "        vertical-align: middle;\n",
       "    }\n",
       "\n",
       "    .dataframe tbody tr th {\n",
       "        vertical-align: top;\n",
       "    }\n",
       "\n",
       "    .dataframe thead th {\n",
       "        text-align: right;\n",
       "    }\n",
       "</style>\n",
       "<table border=\"1\" class=\"dataframe\">\n",
       "  <thead>\n",
       "    <tr style=\"text-align: right;\">\n",
       "      <th></th>\n",
       "      <th>names</th>\n",
       "      <th>ages</th>\n",
       "    </tr>\n",
       "  </thead>\n",
       "  <tbody>\n",
       "    <tr>\n",
       "      <th>0</th>\n",
       "      <td>Alvaro</td>\n",
       "      <td>25.0</td>\n",
       "    </tr>\n",
       "    <tr>\n",
       "      <th>1</th>\n",
       "      <td>Ana</td>\n",
       "      <td>26.0</td>\n",
       "    </tr>\n",
       "    <tr>\n",
       "      <th>2</th>\n",
       "      <td>Luzia</td>\n",
       "      <td>25.0</td>\n",
       "    </tr>\n",
       "    <tr>\n",
       "      <th>3</th>\n",
       "      <td>James</td>\n",
       "      <td>32.0</td>\n",
       "    </tr>\n",
       "    <tr>\n",
       "      <th>4</th>\n",
       "      <td>Brendan</td>\n",
       "      <td>34.0</td>\n",
       "    </tr>\n",
       "    <tr>\n",
       "      <th>5</th>\n",
       "      <td>Sarah</td>\n",
       "      <td>10.0</td>\n",
       "    </tr>\n",
       "  </tbody>\n",
       "</table>\n",
       "</div>"
      ],
      "text/plain": [
       "     names  ages\n",
       "0   Alvaro  25.0\n",
       "1      Ana  26.0\n",
       "2    Luzia  25.0\n",
       "3    James  32.0\n",
       "4  Brendan  34.0\n",
       "5    Sarah  10.0"
      ]
     },
     "execution_count": 15,
     "metadata": {},
     "output_type": "execute_result"
    }
   ],
   "source": [
    "new_people_dataframe.replace(np.NaN, 10)"
   ]
  },
  {
   "cell_type": "code",
   "execution_count": 16,
   "id": "0f338c50-5245-4642-9554-95f3ca215749",
   "metadata": {},
   "outputs": [
    {
     "data": {
      "text/html": [
       "<div>\n",
       "<style scoped>\n",
       "    .dataframe tbody tr th:only-of-type {\n",
       "        vertical-align: middle;\n",
       "    }\n",
       "\n",
       "    .dataframe tbody tr th {\n",
       "        vertical-align: top;\n",
       "    }\n",
       "\n",
       "    .dataframe thead th {\n",
       "        text-align: right;\n",
       "    }\n",
       "</style>\n",
       "<table border=\"1\" class=\"dataframe\">\n",
       "  <thead>\n",
       "    <tr style=\"text-align: right;\">\n",
       "      <th></th>\n",
       "      <th>names</th>\n",
       "      <th>ages</th>\n",
       "    </tr>\n",
       "  </thead>\n",
       "  <tbody>\n",
       "    <tr>\n",
       "      <th>0</th>\n",
       "      <td>Alvaro</td>\n",
       "      <td>25.0</td>\n",
       "    </tr>\n",
       "    <tr>\n",
       "      <th>1</th>\n",
       "      <td>Ana</td>\n",
       "      <td>26.0</td>\n",
       "    </tr>\n",
       "    <tr>\n",
       "      <th>2</th>\n",
       "      <td>Luzia</td>\n",
       "      <td>25.0</td>\n",
       "    </tr>\n",
       "    <tr>\n",
       "      <th>3</th>\n",
       "      <td>James</td>\n",
       "      <td>32.0</td>\n",
       "    </tr>\n",
       "    <tr>\n",
       "      <th>4</th>\n",
       "      <td>Brendan</td>\n",
       "      <td>34.0</td>\n",
       "    </tr>\n",
       "  </tbody>\n",
       "</table>\n",
       "</div>"
      ],
      "text/plain": [
       "     names  ages\n",
       "0   Alvaro  25.0\n",
       "1      Ana  26.0\n",
       "2    Luzia  25.0\n",
       "3    James  32.0\n",
       "4  Brendan  34.0"
      ]
     },
     "execution_count": 16,
     "metadata": {},
     "output_type": "execute_result"
    }
   ],
   "source": [
    "# Missing values may have different meanings.\n",
    "new_people_dataframe.dropna()"
   ]
  },
  {
   "cell_type": "code",
   "execution_count": 21,
   "id": "3acc2536-37a8-44e1-9cc7-fd787a172209",
   "metadata": {},
   "outputs": [
    {
     "data": {
      "text/plain": [
       "0    25.0\n",
       "1    26.0\n",
       "2    25.0\n",
       "3    32.0\n",
       "4    34.0\n",
       "5   -99.0\n",
       "Name: ages, dtype: float64"
      ]
     },
     "execution_count": 21,
     "metadata": {},
     "output_type": "execute_result"
    }
   ],
   "source": [
    "new_people_dataframe['ages'].apply( lambda age: -99 if np.isnan(age) else age )"
   ]
  },
  {
   "cell_type": "code",
   "execution_count": 22,
   "id": "6166e0a7-9bdd-4bad-89a1-c7a6baaf9e1a",
   "metadata": {},
   "outputs": [
    {
     "data": {
      "text/html": [
       "<div>\n",
       "<style scoped>\n",
       "    .dataframe tbody tr th:only-of-type {\n",
       "        vertical-align: middle;\n",
       "    }\n",
       "\n",
       "    .dataframe tbody tr th {\n",
       "        vertical-align: top;\n",
       "    }\n",
       "\n",
       "    .dataframe thead th {\n",
       "        text-align: right;\n",
       "    }\n",
       "</style>\n",
       "<table border=\"1\" class=\"dataframe\">\n",
       "  <thead>\n",
       "    <tr style=\"text-align: right;\">\n",
       "      <th></th>\n",
       "      <th>names</th>\n",
       "      <th>ages</th>\n",
       "    </tr>\n",
       "  </thead>\n",
       "  <tbody>\n",
       "    <tr>\n",
       "      <th>0</th>\n",
       "      <td>Alvaro</td>\n",
       "      <td>25.0</td>\n",
       "    </tr>\n",
       "    <tr>\n",
       "      <th>1</th>\n",
       "      <td>Ana</td>\n",
       "      <td>26.0</td>\n",
       "    </tr>\n",
       "    <tr>\n",
       "      <th>2</th>\n",
       "      <td>Luzia</td>\n",
       "      <td>25.0</td>\n",
       "    </tr>\n",
       "    <tr>\n",
       "      <th>3</th>\n",
       "      <td>James</td>\n",
       "      <td>32.0</td>\n",
       "    </tr>\n",
       "    <tr>\n",
       "      <th>4</th>\n",
       "      <td>Brendan</td>\n",
       "      <td>34.0</td>\n",
       "    </tr>\n",
       "    <tr>\n",
       "      <th>5</th>\n",
       "      <td>Sarah</td>\n",
       "      <td>NaN</td>\n",
       "    </tr>\n",
       "  </tbody>\n",
       "</table>\n",
       "</div>"
      ],
      "text/plain": [
       "     names  ages\n",
       "0   Alvaro  25.0\n",
       "1      Ana  26.0\n",
       "2    Luzia  25.0\n",
       "3    James  32.0\n",
       "4  Brendan  34.0\n",
       "5    Sarah   NaN"
      ]
     },
     "execution_count": 22,
     "metadata": {},
     "output_type": "execute_result"
    }
   ],
   "source": [
    "# Basic statistics\n",
    "\n",
    "new_people_dataframe"
   ]
  },
  {
   "cell_type": "code",
   "execution_count": 23,
   "id": "e4ec7583-b668-4d97-a385-6b9695ffcc77",
   "metadata": {},
   "outputs": [
    {
     "data": {
      "text/plain": [
       "0     25.0\n",
       "1     51.0\n",
       "2     76.0\n",
       "3    108.0\n",
       "4    142.0\n",
       "5      NaN\n",
       "Name: ages, dtype: float64"
      ]
     },
     "execution_count": 23,
     "metadata": {},
     "output_type": "execute_result"
    }
   ],
   "source": [
    "new_people_dataframe['ages'].cumsum()"
   ]
  },
  {
   "cell_type": "code",
   "execution_count": 24,
   "id": "630425a8-2785-4dca-a509-a52b0f2e4d58",
   "metadata": {},
   "outputs": [
    {
     "data": {
      "text/plain": [
       "array([25., 26., 32., 34., nan])"
      ]
     },
     "execution_count": 24,
     "metadata": {},
     "output_type": "execute_result"
    }
   ],
   "source": [
    "new_people_dataframe['ages'].unique()"
   ]
  },
  {
   "cell_type": "code",
   "execution_count": 25,
   "id": "d2a7ad6d-bd61-4f49-82bd-eb98e7f28595",
   "metadata": {},
   "outputs": [
    {
     "data": {
      "text/plain": [
       "25.0    2\n",
       "26.0    1\n",
       "32.0    1\n",
       "34.0    1\n",
       "Name: ages, dtype: int64"
      ]
     },
     "execution_count": 25,
     "metadata": {},
     "output_type": "execute_result"
    }
   ],
   "source": [
    "# frecuency table\n",
    "new_people_dataframe['ages'].value_counts()"
   ]
  },
  {
   "cell_type": "code",
   "execution_count": 26,
   "id": "2832116a-60d0-44ed-a55e-0b81142cb51e",
   "metadata": {},
   "outputs": [
    {
     "data": {
      "text/plain": [
       "28.4"
      ]
     },
     "execution_count": 26,
     "metadata": {},
     "output_type": "execute_result"
    }
   ],
   "source": [
    "# SELECT ages, count(*)\n",
    "# FROM MY_TABLE\n",
    "# GROUP BY ages;\n",
    "new_people_dataframe['ages'].mean()"
   ]
  },
  {
   "cell_type": "code",
   "execution_count": 29,
   "id": "a5b01b5d-a448-43ae-8362-0468a5212990",
   "metadata": {},
   "outputs": [
    {
     "data": {
      "text/plain": [
       "34.0"
      ]
     },
     "execution_count": 29,
     "metadata": {},
     "output_type": "execute_result"
    }
   ],
   "source": [
    "\n",
    "new_people_dataframe['ages'].max()"
   ]
  },
  {
   "cell_type": "code",
   "execution_count": 30,
   "id": "12dc8c22-15ec-4337-b692-738819fe6c07",
   "metadata": {},
   "outputs": [
    {
     "data": {
      "text/plain": [
       "25.0"
      ]
     },
     "execution_count": 30,
     "metadata": {},
     "output_type": "execute_result"
    }
   ],
   "source": [
    "new_people_dataframe['ages'].min()\n"
   ]
  },
  {
   "cell_type": "code",
   "execution_count": 31,
   "id": "04115f75-d011-4bcb-9ff3-d47701e889be",
   "metadata": {},
   "outputs": [
    {
     "data": {
      "text/plain": [
       "26.0"
      ]
     },
     "execution_count": 31,
     "metadata": {},
     "output_type": "execute_result"
    }
   ],
   "source": [
    "\n",
    "new_people_dataframe['ages'].median()\n"
   ]
  },
  {
   "cell_type": "code",
   "execution_count": 32,
   "id": "ff2ac37c-7dea-4e7c-a8ca-f4dff65059a2",
   "metadata": {},
   "outputs": [
    {
     "data": {
      "text/plain": [
       "4.277849927241488"
      ]
     },
     "execution_count": 32,
     "metadata": {},
     "output_type": "execute_result"
    }
   ],
   "source": [
    "new_people_dataframe['ages'].std()"
   ]
  },
  {
   "cell_type": "code",
   "execution_count": 34,
   "id": "3fa203a8-882c-4ec7-a66f-a3bbc5b3cc9e",
   "metadata": {},
   "outputs": [
    {
     "data": {
      "text/plain": [
       "24.12215007275851"
      ]
     },
     "execution_count": 34,
     "metadata": {},
     "output_type": "execute_result"
    }
   ],
   "source": [
    "new_people_dataframe['ages'].mean()- new_people_dataframe['ages'].std()"
   ]
  },
  {
   "cell_type": "code",
   "execution_count": 35,
   "id": "ce9f9a56-f8b3-482d-bcbe-ee32fb8c9d78",
   "metadata": {},
   "outputs": [
    {
     "data": {
      "text/plain": [
       "32.67784992724149"
      ]
     },
     "execution_count": 35,
     "metadata": {},
     "output_type": "execute_result"
    }
   ],
   "source": [
    "new_people_dataframe['ages'].mean()+ new_people_dataframe['ages'].std()"
   ]
  },
  {
   "cell_type": "code",
   "execution_count": 37,
   "id": "b5483a75-1b3b-41a3-81c9-01ce56e6914b",
   "metadata": {},
   "outputs": [
    {
     "data": {
      "text/plain": [
       "ages\n",
       "25.0    2\n",
       "26.0    1\n",
       "32.0    1\n",
       "34.0    1\n",
       "dtype: int64"
      ]
     },
     "execution_count": 37,
     "metadata": {},
     "output_type": "execute_result"
    }
   ],
   "source": [
    "# At least 50%, most of the people, is in a range of 1 std from the mean:\n",
    "# Most of the people are between 24 and 32 years old\n",
    "\n",
    "result=new_people_dataframe.groupby('ages')\n",
    "\n",
    "result.size()\n"
   ]
  },
  {
   "cell_type": "code",
   "execution_count": 38,
   "id": "70a8d43d-1c8a-427d-bae5-4d03d051a27d",
   "metadata": {},
   "outputs": [
    {
     "data": {
      "text/html": [
       "<div>\n",
       "<style scoped>\n",
       "    .dataframe tbody tr th:only-of-type {\n",
       "        vertical-align: middle;\n",
       "    }\n",
       "\n",
       "    .dataframe tbody tr th {\n",
       "        vertical-align: top;\n",
       "    }\n",
       "\n",
       "    .dataframe thead th {\n",
       "        text-align: right;\n",
       "    }\n",
       "</style>\n",
       "<table border=\"1\" class=\"dataframe\">\n",
       "  <thead>\n",
       "    <tr style=\"text-align: right;\">\n",
       "      <th></th>\n",
       "      <th>names</th>\n",
       "      <th>salary</th>\n",
       "    </tr>\n",
       "  </thead>\n",
       "  <tbody>\n",
       "    <tr>\n",
       "      <th>0</th>\n",
       "      <td>Alvaro</td>\n",
       "      <td>5005</td>\n",
       "    </tr>\n",
       "    <tr>\n",
       "      <th>1</th>\n",
       "      <td>Ana</td>\n",
       "      <td>6006</td>\n",
       "    </tr>\n",
       "    <tr>\n",
       "      <th>2</th>\n",
       "      <td>Alvaro</td>\n",
       "      <td>5050</td>\n",
       "    </tr>\n",
       "    <tr>\n",
       "      <th>3</th>\n",
       "      <td>Ana</td>\n",
       "      <td>6060</td>\n",
       "    </tr>\n",
       "    <tr>\n",
       "      <th>4</th>\n",
       "      <td>Alvaro</td>\n",
       "      <td>5100</td>\n",
       "    </tr>\n",
       "    <tr>\n",
       "      <th>5</th>\n",
       "      <td>Ana</td>\n",
       "      <td>6200</td>\n",
       "    </tr>\n",
       "  </tbody>\n",
       "</table>\n",
       "</div>"
      ],
      "text/plain": [
       "    names  salary\n",
       "0  Alvaro    5005\n",
       "1     Ana    6006\n",
       "2  Alvaro    5050\n",
       "3     Ana    6060\n",
       "4  Alvaro    5100\n",
       "5     Ana    6200"
      ]
     },
     "execution_count": 38,
     "metadata": {},
     "output_type": "execute_result"
    }
   ],
   "source": [
    "\n",
    "people = {\n",
    "    \"names\": ('Alvaro', 'Ana', 'Alvaro', 'Ana', 'Alvaro', 'Ana'),\n",
    "    \"salary\": (5005, 6006, 5050, 6060, 5100, 6200)\n",
    "}\n",
    "new_people_dataframe = pd.DataFrame(people)\n",
    "new_people_dataframe"
   ]
  },
  {
   "cell_type": "code",
   "execution_count": 42,
   "id": "2621176d-18c3-4a9f-ba28-9c0852a0f8b7",
   "metadata": {},
   "outputs": [],
   "source": [
    "grouped_result=new_people_dataframe.groupby('names')"
   ]
  },
  {
   "cell_type": "code",
   "execution_count": 43,
   "id": "fce5439f-3a6d-489c-95ab-12e55cc6521a",
   "metadata": {},
   "outputs": [
    {
     "data": {
      "text/plain": [
       "names\n",
       "Alvaro    3\n",
       "Ana       3\n",
       "dtype: int64"
      ]
     },
     "execution_count": 43,
     "metadata": {},
     "output_type": "execute_result"
    }
   ],
   "source": [
    "grouped_result.size()"
   ]
  },
  {
   "cell_type": "code",
   "execution_count": 46,
   "id": "a93d63df-d095-42a8-a71b-485580eaf35f",
   "metadata": {},
   "outputs": [
    {
     "data": {
      "text/html": [
       "<div>\n",
       "<style scoped>\n",
       "    .dataframe tbody tr th:only-of-type {\n",
       "        vertical-align: middle;\n",
       "    }\n",
       "\n",
       "    .dataframe tbody tr th {\n",
       "        vertical-align: top;\n",
       "    }\n",
       "\n",
       "    .dataframe thead tr th {\n",
       "        text-align: left;\n",
       "    }\n",
       "\n",
       "    .dataframe thead tr:last-of-type th {\n",
       "        text-align: right;\n",
       "    }\n",
       "</style>\n",
       "<table border=\"1\" class=\"dataframe\">\n",
       "  <thead>\n",
       "    <tr>\n",
       "      <th></th>\n",
       "      <th colspan=\"8\" halign=\"left\">salary</th>\n",
       "    </tr>\n",
       "    <tr>\n",
       "      <th></th>\n",
       "      <th>count</th>\n",
       "      <th>mean</th>\n",
       "      <th>std</th>\n",
       "      <th>min</th>\n",
       "      <th>25%</th>\n",
       "      <th>50%</th>\n",
       "      <th>75%</th>\n",
       "      <th>max</th>\n",
       "    </tr>\n",
       "    <tr>\n",
       "      <th>names</th>\n",
       "      <th></th>\n",
       "      <th></th>\n",
       "      <th></th>\n",
       "      <th></th>\n",
       "      <th></th>\n",
       "      <th></th>\n",
       "      <th></th>\n",
       "      <th></th>\n",
       "    </tr>\n",
       "  </thead>\n",
       "  <tbody>\n",
       "    <tr>\n",
       "      <th>Alvaro</th>\n",
       "      <td>3.0</td>\n",
       "      <td>5051.666667</td>\n",
       "      <td>47.521925</td>\n",
       "      <td>5005.0</td>\n",
       "      <td>5027.5</td>\n",
       "      <td>5050.0</td>\n",
       "      <td>5075.0</td>\n",
       "      <td>5100.0</td>\n",
       "    </tr>\n",
       "    <tr>\n",
       "      <th>Ana</th>\n",
       "      <td>3.0</td>\n",
       "      <td>6088.666667</td>\n",
       "      <td>100.126587</td>\n",
       "      <td>6006.0</td>\n",
       "      <td>6033.0</td>\n",
       "      <td>6060.0</td>\n",
       "      <td>6130.0</td>\n",
       "      <td>6200.0</td>\n",
       "    </tr>\n",
       "  </tbody>\n",
       "</table>\n",
       "</div>"
      ],
      "text/plain": [
       "       salary                                                                 \n",
       "        count         mean         std     min     25%     50%     75%     max\n",
       "names                                                                         \n",
       "Alvaro    3.0  5051.666667   47.521925  5005.0  5027.5  5050.0  5075.0  5100.0\n",
       "Ana       3.0  6088.666667  100.126587  6006.0  6033.0  6060.0  6130.0  6200.0"
      ]
     },
     "execution_count": 46,
     "metadata": {},
     "output_type": "execute_result"
    }
   ],
   "source": [
    "grouped_result.describe()"
   ]
  },
  {
   "cell_type": "code",
   "execution_count": 47,
   "id": "f708eed5-1062-49cc-8cdf-23fe6de439a6",
   "metadata": {},
   "outputs": [
    {
     "data": {
      "text/html": [
       "<div>\n",
       "<style scoped>\n",
       "    .dataframe tbody tr th:only-of-type {\n",
       "        vertical-align: middle;\n",
       "    }\n",
       "\n",
       "    .dataframe tbody tr th {\n",
       "        vertical-align: top;\n",
       "    }\n",
       "\n",
       "    .dataframe thead th {\n",
       "        text-align: right;\n",
       "    }\n",
       "</style>\n",
       "<table border=\"1\" class=\"dataframe\">\n",
       "  <thead>\n",
       "    <tr style=\"text-align: right;\">\n",
       "      <th></th>\n",
       "      <th>names</th>\n",
       "      <th>ages</th>\n",
       "    </tr>\n",
       "  </thead>\n",
       "  <tbody>\n",
       "    <tr>\n",
       "      <th>0</th>\n",
       "      <td>Alvaro</td>\n",
       "      <td>25.0</td>\n",
       "    </tr>\n",
       "    <tr>\n",
       "      <th>1</th>\n",
       "      <td>Ana</td>\n",
       "      <td>26.0</td>\n",
       "    </tr>\n",
       "    <tr>\n",
       "      <th>2</th>\n",
       "      <td>Luzia</td>\n",
       "      <td>25.0</td>\n",
       "    </tr>\n",
       "    <tr>\n",
       "      <th>3</th>\n",
       "      <td>James</td>\n",
       "      <td>32.0</td>\n",
       "    </tr>\n",
       "    <tr>\n",
       "      <th>4</th>\n",
       "      <td>Brendan</td>\n",
       "      <td>34.0</td>\n",
       "    </tr>\n",
       "    <tr>\n",
       "      <th>5</th>\n",
       "      <td>Sarah</td>\n",
       "      <td>NaN</td>\n",
       "    </tr>\n",
       "  </tbody>\n",
       "</table>\n",
       "</div>"
      ],
      "text/plain": [
       "     names  ages\n",
       "0   Alvaro  25.0\n",
       "1      Ana  26.0\n",
       "2    Luzia  25.0\n",
       "3    James  32.0\n",
       "4  Brendan  34.0\n",
       "5    Sarah   NaN"
      ]
     },
     "execution_count": 47,
     "metadata": {},
     "output_type": "execute_result"
    }
   ],
   "source": [
    "\n",
    "people = {\n",
    "    \"names\": ('Alvaro', 'Ana', 'Luzia', 'James', 'Brendan', 'Sarah'),\n",
    "    \"ages\": (25, 26, 25, 32, 34, np.NaN)\n",
    "}\n",
    "new_people_dataframe = pd.DataFrame(people)\n",
    "new_people_dataframe\n"
   ]
  },
  {
   "cell_type": "code",
   "execution_count": 49,
   "id": "df6f2da4-16d8-4724-a387-7bb4ff757a29",
   "metadata": {},
   "outputs": [
    {
     "data": {
      "text/plain": [
       "0      C\n",
       "1      C\n",
       "2      C\n",
       "3      E\n",
       "4      F\n",
       "5    NaN\n",
       "Name: ages, dtype: category\n",
       "Categories (6, object): ['A' < 'B' < 'C' < 'D' < 'E' < 'F']"
      ]
     },
     "execution_count": 49,
     "metadata": {},
     "output_type": "execute_result"
    }
   ],
   "source": [
    "# Functions to group/split the data\n",
    "\n",
    "pd.cut( new_people_dataframe['ages'] , (-1, 10, 20, 26, 30, 33, 200), labels=['A', 'B', 'C', 'D', 'E', 'F'])"
   ]
  },
  {
   "cell_type": "code",
   "execution_count": 51,
   "id": "3c96fe9d-aeae-4374-a6d2-b11f6a557482",
   "metadata": {},
   "outputs": [
    {
     "data": {
      "text/plain": [
       "0      A\n",
       "1      B\n",
       "2      A\n",
       "3      C\n",
       "4      C\n",
       "5    NaN\n",
       "Name: ages, dtype: category\n",
       "Categories (3, object): ['A' < 'B' < 'C']"
      ]
     },
     "execution_count": 51,
     "metadata": {},
     "output_type": "execute_result"
    }
   ],
   "source": [
    "pd.qcut( new_people_dataframe['ages'] , 2, labels=['A', 'B', 'C'])"
   ]
  },
  {
   "cell_type": "code",
   "execution_count": 53,
   "id": "7a9f4646-9af5-48ca-aff9-9e28017703ba",
   "metadata": {},
   "outputs": [
    {
     "data": {
      "text/plain": [
       "0      A\n",
       "1      A\n",
       "2      A\n",
       "3      B\n",
       "4      B\n",
       "5    NaN\n",
       "Name: ages, dtype: category\n",
       "Categories (2, object): ['A' < 'B']"
      ]
     },
     "execution_count": 53,
     "metadata": {},
     "output_type": "execute_result"
    }
   ],
   "source": [
    "pd.cut( new_people_dataframe['ages'] , (-1, 30, 200), labels=['A', 'B'])"
   ]
  },
  {
   "cell_type": "code",
   "execution_count": 57,
   "id": "665c309e-60c0-4d47-96f7-6811d5452016",
   "metadata": {},
   "outputs": [
    {
     "data": {
      "text/plain": [
       "0      A\n",
       "1      A\n",
       "2      A\n",
       "3      B\n",
       "4      B\n",
       "5    NaN\n",
       "Name: ages, dtype: category\n",
       "Categories (2, object): ['A' < 'B']"
      ]
     },
     "execution_count": 57,
     "metadata": {},
     "output_type": "execute_result"
    }
   ],
   "source": [
    "pd.cut( new_people_dataframe['ages'] , 2 , labels=['A', 'B'])"
   ]
  },
  {
   "cell_type": "code",
   "execution_count": null,
   "id": "466f372c-f8b0-4cfa-9a0e-cd9b9edb3092",
   "metadata": {},
   "outputs": [],
   "source": []
  }
 ],
 "metadata": {
  "kernelspec": {
   "display_name": "Python 3 (ipykernel)",
   "language": "python",
   "name": "python3"
  },
  "language_info": {
   "codemirror_mode": {
    "name": "ipython",
    "version": 3
   },
   "file_extension": ".py",
   "mimetype": "text/x-python",
   "name": "python",
   "nbconvert_exporter": "python",
   "pygments_lexer": "ipython3",
   "version": "3.9.10"
  }
 },
 "nbformat": 4,
 "nbformat_minor": 5
}
