{
 "cells": [
  {
   "cell_type": "code",
   "execution_count": 1,
   "id": "85c10cc3-414b-4ca0-82ad-911e343d5788",
   "metadata": {},
   "outputs": [
    {
     "name": "stdout",
     "output_type": "stream",
     "text": [
      "1\n",
      "3\n",
      "5\n",
      "7\n",
      "9\n",
      "11\n",
      "13\n"
     ]
    }
   ],
   "source": [
    "# Tuples\n",
    "\n",
    "my_tuple = (1, 3, 5, 7, 9, 11 ,13)\n",
    "#           0  1  2  3  4  5    6\n",
    "#                   -4 -3 -2   -1\n",
    "\n",
    "for each_item in my_tuple:\n",
    "    print(each_item)"
   ]
  },
  {
   "cell_type": "code",
   "execution_count": 2,
   "id": "02d02ffb-9b93-493f-8494-a44a947a6a67",
   "metadata": {},
   "outputs": [
    {
     "name": "stdout",
     "output_type": "stream",
     "text": [
      "1\n"
     ]
    }
   ],
   "source": [
    "print( my_tuple[0] )"
   ]
  },
  {
   "cell_type": "code",
   "execution_count": 3,
   "id": "6ca0b499-94fe-413f-af49-bfe14adb3878",
   "metadata": {},
   "outputs": [
    {
     "data": {
      "text/plain": [
       "1"
      ]
     },
     "execution_count": 3,
     "metadata": {},
     "output_type": "execute_result"
    }
   ],
   "source": [
    "my_tuple[0]"
   ]
  },
  {
   "cell_type": "code",
   "execution_count": 4,
   "id": "1a2e2277-1a2a-4f41-9d9c-70a5150e49e8",
   "metadata": {},
   "outputs": [
    {
     "data": {
      "text/plain": [
       "7"
      ]
     },
     "execution_count": 4,
     "metadata": {},
     "output_type": "execute_result"
    }
   ],
   "source": [
    "len(my_tuple) # Returns the number (count) of object within a collection"
   ]
  },
  {
   "cell_type": "code",
   "execution_count": 6,
   "id": "303dc828-8891-43d7-8bd8-bef7c464a1eb",
   "metadata": {},
   "outputs": [
    {
     "name": "stdout",
     "output_type": "stream",
     "text": [
      "1\n",
      "3\n",
      "5\n",
      "7\n",
      "9\n",
      "11\n",
      "13\n"
     ]
    }
   ],
   "source": [
    "for each_position in range(len(my_tuple)):\n",
    "#for each_position in range(0,len(my_tuple),1):\n",
    "    print( my_tuple[each_position] )\n"
   ]
  },
  {
   "cell_type": "code",
   "execution_count": 7,
   "id": "b64e9a0c-d3f0-4e8c-9aec-469289f7c5c6",
   "metadata": {},
   "outputs": [
    {
     "data": {
      "text/plain": [
       "13"
      ]
     },
     "execution_count": 7,
     "metadata": {},
     "output_type": "execute_result"
    }
   ],
   "source": [
    "# Last value from my tuple\n",
    "my_tuple[ len(my_tuple) - 1 ]\n"
   ]
  },
  {
   "cell_type": "code",
   "execution_count": 8,
   "id": "cb093370-d077-485f-ae94-9eadae78638f",
   "metadata": {},
   "outputs": [
    {
     "data": {
      "text/plain": [
       "13"
      ]
     },
     "execution_count": 8,
     "metadata": {},
     "output_type": "execute_result"
    }
   ],
   "source": [
    "my_tuple[ -0 ]\n"
   ]
  },
  {
   "cell_type": "code",
   "execution_count": 9,
   "id": "140236fc-a928-44c6-bc73-83d52540711c",
   "metadata": {},
   "outputs": [
    {
     "data": {
      "text/plain": [
       "9"
      ]
     },
     "execution_count": 9,
     "metadata": {},
     "output_type": "execute_result"
    }
   ],
   "source": [
    "my_tuple[ -3 ]\n"
   ]
  },
  {
   "cell_type": "code",
   "execution_count": 11,
   "id": "7ae43fda-0bca-4bf1-8763-d792eed8a186",
   "metadata": {},
   "outputs": [
    {
     "data": {
      "text/plain": [
       "(1, 3, 5)"
      ]
     },
     "execution_count": 11,
     "metadata": {},
     "output_type": "execute_result"
    }
   ],
   "source": [
    "my_tuple = (1, 3, 5, 7, 9, 11 ,13)\n",
    "#           0  1  2  3  4  5    6  7\n",
    "#                   -4 -3 -2   -1\n",
    "\n",
    "# slicing\n",
    "my_tuple[0:3]"
   ]
  },
  {
   "cell_type": "code",
   "execution_count": 12,
   "id": "3508819b-b53a-4539-9774-289d10b21b84",
   "metadata": {},
   "outputs": [
    {
     "data": {
      "text/plain": [
       "(7, 9, 11, 13)"
      ]
     },
     "execution_count": 12,
     "metadata": {},
     "output_type": "execute_result"
    }
   ],
   "source": [
    "my_tuple [ (len(my_tuple)-4):(len(my_tuple)) ]"
   ]
  },
  {
   "cell_type": "code",
   "execution_count": 15,
   "id": "73d933a7-f1a0-45f9-863d-55d8beaa5943",
   "metadata": {},
   "outputs": [
    {
     "data": {
      "text/plain": [
       "(7, 9, 11, 13)"
      ]
     },
     "execution_count": 15,
     "metadata": {},
     "output_type": "execute_result"
    }
   ],
   "source": [
    "my_tuple [ -4:len(my_tuple) ]"
   ]
  },
  {
   "cell_type": "code",
   "execution_count": 17,
   "id": "3776a098-cfb3-4243-8a3a-7c4bb5798473",
   "metadata": {},
   "outputs": [
    {
     "data": {
      "text/plain": [
       "(7, 9, 11, 13)"
      ]
     },
     "execution_count": 17,
     "metadata": {},
     "output_type": "execute_result"
    }
   ],
   "source": [
    "my_tuple[-4:]"
   ]
  },
  {
   "cell_type": "code",
   "execution_count": 18,
   "id": "9c849321-9752-4766-ae9c-1b41fe601265",
   "metadata": {},
   "outputs": [
    {
     "data": {
      "text/plain": [
       "(1, 3, 5, 7)"
      ]
     },
     "execution_count": 18,
     "metadata": {},
     "output_type": "execute_result"
    }
   ],
   "source": [
    "my_tuple[0:4]"
   ]
  },
  {
   "cell_type": "code",
   "execution_count": 19,
   "id": "b25c6cae-978f-4208-9364-d6b5911d0b7b",
   "metadata": {},
   "outputs": [
    {
     "data": {
      "text/plain": [
       "(1, 3, 5, 7)"
      ]
     },
     "execution_count": 19,
     "metadata": {},
     "output_type": "execute_result"
    }
   ],
   "source": [
    "my_tuple[:4]"
   ]
  },
  {
   "cell_type": "code",
   "execution_count": 21,
   "id": "5dff3edf-a53b-430d-88d9-c8370c46ce89",
   "metadata": {},
   "outputs": [
    {
     "data": {
      "text/plain": [
       "(1, 2, 3, 4, 5, 6)"
      ]
     },
     "execution_count": 21,
     "metadata": {},
     "output_type": "execute_result"
    }
   ],
   "source": [
    "tuple1=(1,2,3)\n",
    "tuple2=(4,5,6)\n",
    "\n",
    "tuple1 + tuple2 # join tuples (collections)"
   ]
  },
  {
   "cell_type": "code",
   "execution_count": 22,
   "id": "efd55379-1675-49a0-bcea-b1248f52f005",
   "metadata": {},
   "outputs": [
    {
     "data": {
      "text/plain": [
       "(1, 2, 3, 1, 2, 3, 1, 2, 3)"
      ]
     },
     "execution_count": 22,
     "metadata": {},
     "output_type": "execute_result"
    }
   ],
   "source": [
    "tuple1 * 3"
   ]
  },
  {
   "cell_type": "code",
   "execution_count": 43,
   "id": "195778bf-4cd4-48c1-a30d-3c307547b2c0",
   "metadata": {},
   "outputs": [
    {
     "data": {
      "text/plain": [
       "(7, 7, 7)"
      ]
     },
     "execution_count": 43,
     "metadata": {},
     "output_type": "execute_result"
    }
   ],
   "source": [
    "my_tuple = (1, 3, 5, 7, 9, 11 ,13)\n",
    "my_tuple[3]*3\n",
    "my_tuple[3:4]*3"
   ]
  },
  {
   "cell_type": "code",
   "execution_count": 23,
   "id": "12b07b10-98f5-46d6-8148-242e36af1af7",
   "metadata": {},
   "outputs": [
    {
     "data": {
      "text/plain": [
       "7"
      ]
     },
     "execution_count": 23,
     "metadata": {},
     "output_type": "execute_result"
    }
   ],
   "source": [
    "# Texts are nothing but tuples of chars.\n",
    "# So I can apply to them same operators and functions as the ones that I was appling to tuples\n",
    "my_text=\"ABCDEFG\"\n",
    "\n",
    "len(my_text)"
   ]
  },
  {
   "cell_type": "code",
   "execution_count": 24,
   "id": "0b2f8568-fee2-4cf6-a68d-5ef72e11aa4b",
   "metadata": {},
   "outputs": [
    {
     "data": {
      "text/plain": [
       "'A'"
      ]
     },
     "execution_count": 24,
     "metadata": {},
     "output_type": "execute_result"
    }
   ],
   "source": [
    "my_text[0]"
   ]
  },
  {
   "cell_type": "code",
   "execution_count": 25,
   "id": "a3ebeee7-245b-469f-95ed-1d565023ea9a",
   "metadata": {},
   "outputs": [
    {
     "data": {
      "text/plain": [
       "'G'"
      ]
     },
     "execution_count": 25,
     "metadata": {},
     "output_type": "execute_result"
    }
   ],
   "source": [
    "my_text[-1]"
   ]
  },
  {
   "cell_type": "code",
   "execution_count": 26,
   "id": "1a930936-1734-403f-a558-2bda6d8799e9",
   "metadata": {},
   "outputs": [
    {
     "data": {
      "text/plain": [
       "'BCDEF'"
      ]
     },
     "execution_count": 26,
     "metadata": {},
     "output_type": "execute_result"
    }
   ],
   "source": [
    "my_text[1:-1]"
   ]
  },
  {
   "cell_type": "code",
   "execution_count": 27,
   "id": "48c42c34-ebb9-4fa7-97b6-430ec7ede497",
   "metadata": {},
   "outputs": [
    {
     "name": "stdout",
     "output_type": "stream",
     "text": [
      "A\n",
      "B\n",
      "C\n",
      "D\n",
      "E\n",
      "F\n",
      "G\n"
     ]
    }
   ],
   "source": [
    "for every_single_char in my_text:\n",
    "    print(every_single_char)"
   ]
  },
  {
   "cell_type": "code",
   "execution_count": 28,
   "id": "c0dd26e3-9fc5-4f6a-9fd0-690e9122fb62",
   "metadata": {},
   "outputs": [
    {
     "data": {
      "text/plain": [
       "'ABCDEFGABCDEFGABCDEFG'"
      ]
     },
     "execution_count": 28,
     "metadata": {},
     "output_type": "execute_result"
    }
   ],
   "source": [
    "my_text*3"
   ]
  },
  {
   "cell_type": "code",
   "execution_count": 31,
   "id": "ee13175f-f818-4150-8a79-8b4fd7885169",
   "metadata": {},
   "outputs": [
    {
     "data": {
      "text/plain": [
       "7"
      ]
     },
     "execution_count": 31,
     "metadata": {},
     "output_type": "execute_result"
    }
   ],
   "source": [
    "my_list = [1, 3, 5, 7, 9, 11 ,13]\n",
    "#           0  1  2  3  4  5    6  7\n",
    "\n",
    "my_list[3]"
   ]
  },
  {
   "cell_type": "code",
   "execution_count": 34,
   "id": "fb338e42-e964-4fbf-b292-152e1ab7dc4e",
   "metadata": {},
   "outputs": [],
   "source": [
    "my_list[3]=10\n",
    "my_list[3]+=3\n"
   ]
  },
  {
   "cell_type": "code",
   "execution_count": 35,
   "id": "d1375465-e8d1-4caf-9c74-9c604448615d",
   "metadata": {},
   "outputs": [
    {
     "data": {
      "text/plain": [
       "13"
      ]
     },
     "execution_count": 35,
     "metadata": {},
     "output_type": "execute_result"
    }
   ],
   "source": [
    "\n",
    "my_list[3]"
   ]
  },
  {
   "cell_type": "code",
   "execution_count": 37,
   "id": "d543fb8d-99ed-4105-864a-e2687ca0b1d3",
   "metadata": {},
   "outputs": [],
   "source": [
    "my_list.remove(3) # here , I am not using positions, but items"
   ]
  },
  {
   "cell_type": "code",
   "execution_count": 38,
   "id": "d0692fe6-5cac-47fd-8b41-0896c2c1303d",
   "metadata": {},
   "outputs": [
    {
     "data": {
      "text/plain": [
       "[1, 5, 13, 9, 11, 13]"
      ]
     },
     "execution_count": 38,
     "metadata": {},
     "output_type": "execute_result"
    }
   ],
   "source": [
    "my_list"
   ]
  },
  {
   "cell_type": "code",
   "execution_count": 45,
   "id": "9e3ad50d-56e6-4d08-90f8-da8cd624a543",
   "metadata": {},
   "outputs": [
    {
     "data": {
      "text/plain": [
       "[1, 5, 13, 9, 11, 13, 17, 17]"
      ]
     },
     "execution_count": 45,
     "metadata": {},
     "output_type": "execute_result"
    }
   ],
   "source": [
    "my_list.append(17)\n",
    "my_list"
   ]
  },
  {
   "cell_type": "code",
   "execution_count": 46,
   "id": "7e5f14df-c619-4525-a1ce-a8516dc690f7",
   "metadata": {},
   "outputs": [],
   "source": [
    "my_list.reverse()"
   ]
  },
  {
   "cell_type": "code",
   "execution_count": 47,
   "id": "cb4573b5-bcb1-49c7-9742-db587ec07566",
   "metadata": {},
   "outputs": [
    {
     "data": {
      "text/plain": [
       "[17, 17, 13, 11, 9, 13, 5, 1]"
      ]
     },
     "execution_count": 47,
     "metadata": {},
     "output_type": "execute_result"
    }
   ],
   "source": [
    "my_list"
   ]
  },
  {
   "cell_type": "code",
   "execution_count": 48,
   "id": "b1850c54-2c52-4997-8c2d-179d8b0c635e",
   "metadata": {},
   "outputs": [],
   "source": [
    "my_list.sort()"
   ]
  },
  {
   "cell_type": "code",
   "execution_count": 49,
   "id": "a427ad1c-0d2c-4040-a4a6-7822703f2225",
   "metadata": {},
   "outputs": [
    {
     "data": {
      "text/plain": [
       "[1, 5, 9, 11, 13, 13, 17, 17]"
      ]
     },
     "execution_count": 49,
     "metadata": {},
     "output_type": "execute_result"
    }
   ],
   "source": [
    "my_list"
   ]
  },
  {
   "cell_type": "code",
   "execution_count": 50,
   "id": "0eb9e1ec-220a-4efc-bd14-abd1fa4dfa04",
   "metadata": {},
   "outputs": [
    {
     "data": {
      "text/plain": [
       "17"
      ]
     },
     "execution_count": 50,
     "metadata": {},
     "output_type": "execute_result"
    }
   ],
   "source": [
    "my_list.pop() # Removes al element, but it return the element being removed\n",
    "# The pop function works with positions ... Default value: LAST ONE"
   ]
  },
  {
   "cell_type": "code",
   "execution_count": 51,
   "id": "29227cc1-c351-47dd-bb37-54c3eae83b67",
   "metadata": {},
   "outputs": [
    {
     "data": {
      "text/plain": [
       "[1, 5, 9, 11, 13, 13, 17]"
      ]
     },
     "execution_count": 51,
     "metadata": {},
     "output_type": "execute_result"
    }
   ],
   "source": [
    "my_list"
   ]
  },
  {
   "cell_type": "code",
   "execution_count": 52,
   "id": "66e3701e-368b-4cd4-9ec4-7e24f3abefc9",
   "metadata": {},
   "outputs": [],
   "source": [
    "my_list.remove(13)\n"
   ]
  },
  {
   "cell_type": "code",
   "execution_count": 53,
   "id": "f329e288-12e8-40d3-889d-030e3ed40ea8",
   "metadata": {},
   "outputs": [
    {
     "data": {
      "text/plain": [
       "4"
      ]
     },
     "execution_count": 53,
     "metadata": {},
     "output_type": "execute_result"
    }
   ],
   "source": [
    "my_list.index(13) # Returns the position of the first occurence of that value"
   ]
  },
  {
   "cell_type": "code",
   "execution_count": 54,
   "id": "872394e6-d5f2-40c0-9f02-eac15a09eb96",
   "metadata": {},
   "outputs": [
    {
     "ename": "ValueError",
     "evalue": "23 is not in list",
     "output_type": "error",
     "traceback": [
      "\u001b[0;31m---------------------------------------------------------------------------\u001b[0m",
      "\u001b[0;31mValueError\u001b[0m                                Traceback (most recent call last)",
      "Input \u001b[0;32mIn [54]\u001b[0m, in \u001b[0;36m<cell line: 1>\u001b[0;34m()\u001b[0m\n\u001b[0;32m----> 1\u001b[0m \u001b[43mmy_list\u001b[49m\u001b[38;5;241;43m.\u001b[39;49m\u001b[43mindex\u001b[49m\u001b[43m(\u001b[49m\u001b[38;5;241;43m23\u001b[39;49m\u001b[43m)\u001b[49m\n",
      "\u001b[0;31mValueError\u001b[0m: 23 is not in list"
     ]
    }
   ],
   "source": [
    "my_list.index(23)"
   ]
  },
  {
   "cell_type": "code",
   "execution_count": 56,
   "id": "a3f678ee-5def-4a92-a348-a843f61debe3",
   "metadata": {},
   "outputs": [
    {
     "data": {
      "text/plain": [
       "1"
      ]
     },
     "execution_count": 56,
     "metadata": {},
     "output_type": "execute_result"
    }
   ],
   "source": [
    "my_list.count(5)"
   ]
  },
  {
   "cell_type": "code",
   "execution_count": 60,
   "id": "50c9d71c-87e9-4311-bc17-8bf5d3fdb23d",
   "metadata": {},
   "outputs": [
    {
     "data": {
      "text/plain": [
       "[1, 2, 4, 5, 6]"
      ]
     },
     "execution_count": 60,
     "metadata": {},
     "output_type": "execute_result"
    }
   ],
   "source": [
    "my_list=[1,2,3,3,3,3,4,3,3,5,6]\n",
    "\n",
    "def removeAllOccurrences(a_list, value_to_be_removed):\n",
    "    while a_list.count(value_to_be_removed) > 0:\n",
    "        a_list.remove(value_to_be_removed)\n",
    "\n",
    "removeAll(my_list,3)\n",
    "my_list"
   ]
  },
  {
   "cell_type": "code",
   "execution_count": 65,
   "id": "c9fedec1-ced1-406b-90a2-c5eef77a338f",
   "metadata": {},
   "outputs": [
    {
     "data": {
      "text/plain": [
       "['C', 'A', 'D', 'B']"
      ]
     },
     "execution_count": 65,
     "metadata": {},
     "output_type": "execute_result"
    }
   ],
   "source": [
    "my_empty_list=[]\n",
    "my_empty_list.append(\"A\")\n",
    "my_empty_list.append(\"B\")\n",
    "my_empty_list.insert(0,\"C\")\n",
    "my_empty_list.insert(2,\"D\")\n",
    "my_empty_list"
   ]
  },
  {
   "cell_type": "code",
   "execution_count": 67,
   "id": "497692a5-fd4a-4630-ba1e-a1bb802510b7",
   "metadata": {},
   "outputs": [
    {
     "data": {
      "text/plain": [
       "'ivan.osuna.ayuste@gmail.com'"
      ]
     },
     "execution_count": 67,
     "metadata": {},
     "output_type": "execute_result"
    }
   ],
   "source": [
    "# Dictionaries\n",
    "my_list=[ \"Ivan\", 43, \"ivan.osuna.ayuste@gmail.com\" ]\n",
    "my_dict={ \"name\": \"Ivan\", \"age\": 43, \"email\": \"ivan.osuna.ayuste@gmail.com\" }\n",
    "\n",
    "\n",
    "my_list[1]\n",
    "\n",
    "\n",
    "my_dict[\"email\"]"
   ]
  },
  {
   "cell_type": "code",
   "execution_count": 68,
   "id": "282aa499-bb72-46e2-9440-ebde9d169fe1",
   "metadata": {},
   "outputs": [
    {
     "data": {
      "text/plain": [
       "3"
      ]
     },
     "execution_count": 68,
     "metadata": {},
     "output_type": "execute_result"
    }
   ],
   "source": [
    "len(my_dict)"
   ]
  },
  {
   "cell_type": "code",
   "execution_count": 69,
   "id": "e6b4883c-99c8-4e93-a411-616a9ea287a2",
   "metadata": {},
   "outputs": [
    {
     "data": {
      "text/plain": [
       "'ivan.osuna@gmail.com'"
      ]
     },
     "execution_count": 69,
     "metadata": {},
     "output_type": "execute_result"
    }
   ],
   "source": [
    "my_dict[\"email\"]=\"ivan.osuna@gmail.com\"\n",
    "my_dict[\"email\"]"
   ]
  },
  {
   "cell_type": "code",
   "execution_count": 70,
   "id": "f3e8ec0d-02bd-4b9f-968e-0cdfeb097689",
   "metadata": {},
   "outputs": [
    {
     "data": {
      "text/plain": [
       "'Spain'"
      ]
     },
     "execution_count": 70,
     "metadata": {},
     "output_type": "execute_result"
    }
   ],
   "source": [
    "my_dict[\"country\"]=\"Spain\"\n",
    "my_dict[\"country\"]"
   ]
  },
  {
   "cell_type": "code",
   "execution_count": 71,
   "id": "f76b283d-7ad7-4857-8104-d041ba7d2237",
   "metadata": {},
   "outputs": [
    {
     "name": "stdout",
     "output_type": "stream",
     "text": [
      "name\n",
      "Ivan\n",
      "age\n",
      "43\n",
      "email\n",
      "ivan.osuna@gmail.com\n",
      "country\n",
      "Spain\n"
     ]
    }
   ],
   "source": [
    "# Dictionaries cannot have a key twice.. keys cannot be repeated.\n",
    "\n",
    "for key in my_dict:\n",
    "    print(key)\n",
    "    print(my_dict[key])"
   ]
  },
  {
   "cell_type": "code",
   "execution_count": 72,
   "id": "6ffc4db0-b1d4-4ac4-8ff6-b484987940d3",
   "metadata": {},
   "outputs": [
    {
     "data": {
      "text/plain": [
       "dict_items([('name', 'Ivan'), ('age', 43), ('email', 'ivan.osuna@gmail.com'), ('country', 'Spain')])"
      ]
     },
     "execution_count": 72,
     "metadata": {},
     "output_type": "execute_result"
    }
   ],
   "source": [
    "my_dict.items()"
   ]
  },
  {
   "cell_type": "code",
   "execution_count": 73,
   "id": "daa9c43f-c168-4221-9d20-fa356d6dc277",
   "metadata": {},
   "outputs": [
    {
     "name": "stdout",
     "output_type": "stream",
     "text": [
      "('name', 'Ivan')\n",
      "('age', 43)\n",
      "('email', 'ivan.osuna@gmail.com')\n",
      "('country', 'Spain')\n"
     ]
    }
   ],
   "source": [
    "for each_tuple in my_dict.items():\n",
    "    print(each_tuple)"
   ]
  },
  {
   "cell_type": "code",
   "execution_count": 75,
   "id": "f937dfa2-8a08-4ac9-8517-92f06a9c9a5d",
   "metadata": {},
   "outputs": [
    {
     "name": "stdout",
     "output_type": "stream",
     "text": [
      "name\n",
      "Ivan\n",
      "age\n",
      "43\n",
      "email\n",
      "ivan.osuna@gmail.com\n",
      "country\n",
      "Spain\n"
     ]
    }
   ],
   "source": [
    "for key, value in my_dict.items():\n",
    "    print(key)\n",
    "    print(value)"
   ]
  },
  {
   "cell_type": "code",
   "execution_count": null,
   "id": "a9a8f3ce-ec9f-49b6-850c-ca1eafcd3746",
   "metadata": {},
   "outputs": [],
   "source": []
  }
 ],
 "metadata": {
  "kernelspec": {
   "display_name": "Python 3 (ipykernel)",
   "language": "python",
   "name": "python3"
  },
  "language_info": {
   "codemirror_mode": {
    "name": "ipython",
    "version": 3
   },
   "file_extension": ".py",
   "mimetype": "text/x-python",
   "name": "python",
   "nbconvert_exporter": "python",
   "pygments_lexer": "ipython3",
   "version": "3.9.10"
  }
 },
 "nbformat": 4,
 "nbformat_minor": 5
}
