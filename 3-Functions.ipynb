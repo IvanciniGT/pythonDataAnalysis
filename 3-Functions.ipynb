{
 "cells": [
  {
   "cell_type": "markdown",
   "id": "c18f791d-ab3a-40b9-93e7-478964b9c575",
   "metadata": {},
   "source": [
    "# Function\n",
    "\n",
    "A function is a piece of code that we can execute, whenever we want.\n",
    "\n",
    "Python comes with a bunch of integrated functions.\n",
    "\n",
    "Python allows me to define my custom functions."
   ]
  },
  {
   "cell_type": "code",
   "execution_count": 9,
   "id": "cdef408a-00e5-4db1-802d-c2a192b270be",
   "metadata": {},
   "outputs": [
    {
     "name": "stdout",
     "output_type": "stream",
     "text": [
      "Good morning Ivan\n",
      "Good morning Ana\n",
      "Good morning Brendan\n",
      "Good morning Paul\n",
      "Good morning Sarah\n",
      "Hey buddy !!!\n",
      "Hey James !!!\n",
      "Hey buddy !!!\n",
      "Good morning buddy\n"
     ]
    }
   ],
   "source": [
    "def sayHello(polite=True, name=\"buddy\"):\n",
    "    if polite == True:\n",
    "        print(\"Good morning \" + name)\n",
    "    else:\n",
    "        print(\"Hey \" + name+ \" !!!\")\n",
    "    \n",
    "# Look at the name of the function. In this case, we are not using snake_case, we are using camelCase.\n",
    "\n",
    "sayHello(name=\"Ivan\")\n",
    "sayHello(name=\"Ana\")\n",
    "sayHello(name=\"Brendan\")\n",
    "sayHello(name=\"Paul\")\n",
    "sayHello(name=\"Sarah\")\n",
    "sayHello(False,\"James\")\n",
    "sayHello(False)\n",
    "sayHello(polite=False)\n",
    "sayHello()"
   ]
  },
  {
   "cell_type": "code",
   "execution_count": 10,
   "id": "2a053f1d-7f42-493b-9cd7-faed05cca8db",
   "metadata": {},
   "outputs": [],
   "source": [
    "def composeGreeting(polite=True, name=\"buddy\"):\n",
    "    if polite == True:\n",
    "        return \"Good morning \" + name\n",
    "    else:\n",
    "        return \"Hey \" + name+ \" !!!\"\n",
    "    \n",
    "greeting_message = composeGreeting(polite=False, name=\"Jack\")\n",
    "#greeting_message = \"Hey Jack\""
   ]
  },
  {
   "cell_type": "code",
   "execution_count": 11,
   "id": "41a4552b-50fb-482d-b085-5ac5451a3538",
   "metadata": {},
   "outputs": [
    {
     "name": "stdout",
     "output_type": "stream",
     "text": [
      "Hey Jack !!!\n"
     ]
    }
   ],
   "source": [
    "print(greeting_message)"
   ]
  },
  {
   "cell_type": "code",
   "execution_count": 25,
   "id": "5d9f3d53-1d3c-4d47-ae5c-a1c518dc32d9",
   "metadata": {},
   "outputs": [],
   "source": [
    "def composeGreetings(polite=True, name=\"buddy\"):\n",
    "    if polite == True:\n",
    "        return (\"Good morning \" + name, \"Hello \" + name) # Good practice!\n",
    "    else:\n",
    "        return \"Hey \" + name+ \" !!!\", \"Hi \"+ name +\" ;)\" # Bad practice :(\n",
    "    \n",
    "greeting_messages = composeGreetings(polite=False, name=\"Jack\")\n"
   ]
  },
  {
   "cell_type": "code",
   "execution_count": 26,
   "id": "681f6464-4c34-47f8-9ed2-fb810fc1c31d",
   "metadata": {},
   "outputs": [
    {
     "name": "stdout",
     "output_type": "stream",
     "text": [
      "('Hey Jack !!!', 'Hi Jack ;)')\n"
     ]
    }
   ],
   "source": [
    "print(greeting_messages)"
   ]
  },
  {
   "cell_type": "code",
   "execution_count": 27,
   "id": "1da069fe-a805-4d42-99bf-ac27bcae62ba",
   "metadata": {},
   "outputs": [
    {
     "name": "stdout",
     "output_type": "stream",
     "text": [
      "Hey Jack !!!\n"
     ]
    }
   ],
   "source": [
    "print(greeting_messages[0])"
   ]
  },
  {
   "cell_type": "code",
   "execution_count": 28,
   "id": "23d13853-2830-4969-be1b-5a180d86ff87",
   "metadata": {},
   "outputs": [
    {
     "name": "stdout",
     "output_type": "stream",
     "text": [
      "Hi Jack ;)\n"
     ]
    }
   ],
   "source": [
    "print(greeting_messages[1])"
   ]
  },
  {
   "cell_type": "code",
   "execution_count": 29,
   "id": "9901bbde-14c0-42a5-b7db-02c0443d0601",
   "metadata": {},
   "outputs": [
    {
     "name": "stdout",
     "output_type": "stream",
     "text": [
      "Good morning Dina\n",
      "Hello Dina\n"
     ]
    }
   ],
   "source": [
    "# Destructuration of a collection\n",
    "\n",
    "#(first_greeting, second_greeting) = composeGreetings(polite=True, name=\"Dina\")\n",
    "first_greeting, second_greeting = composeGreetings(polite=True, name=\"Dina\")\n",
    "\n",
    "print(first_greeting)\n",
    "print(second_greeting)"
   ]
  },
  {
   "cell_type": "code",
   "execution_count": 31,
   "id": "0a621a53-63de-40fa-80b7-cac9e6abcaf4",
   "metadata": {},
   "outputs": [
    {
     "name": "stdout",
     "output_type": "stream",
     "text": [
      "9\n",
      "9\n",
      "5\n",
      "5\n"
     ]
    }
   ],
   "source": [
    "# Practice\n",
    "\n",
    "#greater: 2 arguments (integer numbers)\n",
    "# The function must return the greater of those numbers... If they are the same, one of them is returned\n",
    "\n",
    "def greater(a_number, another_number):\n",
    "    if a_number > another_number:\n",
    "        return a_number\n",
    "    else: \n",
    "        return another_number\n",
    "\n",
    "def alternative_greater(a_number, another_number):\n",
    "    if a_number > another_number:\n",
    "        return a_number\n",
    "    return another_number\n",
    "\n",
    "\n",
    "def another_greater(a_number, another_number):\n",
    "    value_to_be_returned = another_number\n",
    "    \n",
    "    if a_number > another_number:\n",
    "        value_to_be_returned = a_number\n",
    "    \n",
    "    return value_to_be_returned\n",
    "\n",
    "print(greater(5,9))\n",
    "print(greater(9,5))\n",
    "print(greater(5,-9))\n",
    "print(greater(5,5))"
   ]
  },
  {
   "cell_type": "code",
   "execution_count": 32,
   "id": "26cb671e-edb9-4a50-ab4c-0e799ebbac53",
   "metadata": {},
   "outputs": [
    {
     "name": "stdout",
     "output_type": "stream",
     "text": [
      "8\n"
     ]
    }
   ],
   "source": [
    "def greatestAmongThree(number1, number2, number3):\n",
    "    return greater(number1, greater(number2, number3))\n",
    "\n",
    "print(greatestAmongThree(1,4,8))"
   ]
  },
  {
   "cell_type": "code",
   "execution_count": 40,
   "id": "db71f845-25a4-4c9e-87d2-6381abf3b793",
   "metadata": {},
   "outputs": [
    {
     "name": "stdout",
     "output_type": "stream",
     "text": [
      "120\n",
      "120\n",
      "120\n",
      "120\n",
      "1\n",
      "1\n",
      "1\n",
      "1\n"
     ]
    }
   ],
   "source": [
    "# Factorial mathematics\n",
    "# Factorial 5 = 5! = 5 · 4 · 3 · 2 ·1 = 120\n",
    "# Factorial 5 = 5! = 5 · 4!\n",
    "# Factorial 0 = 0! = 1\n",
    "# create the factorial function using: a conditional loop, a collection based loop, using no loops at all\n",
    "#                                        while               for \n",
    "\n",
    "def factorial(number):\n",
    "    running_total = 1\n",
    "    for a_number in range(1, number+1):\n",
    "    #running_total = 1\n",
    "    #for a_number in range(number, 1, -1):\n",
    "        #running_total=running_total*a_number\n",
    "        running_total*=a_number\n",
    "    return running_total\n",
    "    \n",
    "def factorial2(number):\n",
    "    running_total = 1          # 1\n",
    "    current_number = number    # 5\n",
    "    \n",
    "    while current_number > 0:\n",
    "        running_total *= current_number\n",
    "        current_number -= 1      # 4\n",
    "    \n",
    "    return running_total\n",
    "    \n",
    "def factorial3(number):\n",
    "    running_total = 1     \n",
    "    current_number = 2    \n",
    "    \n",
    "    while current_number <= number:\n",
    "        running_total *= current_number\n",
    "        current_number += 1      # 3\n",
    "    \n",
    "    return running_total\n",
    "\n",
    "# Recursivity: Try to avoid recursivity: Slower that the other approaches and it's easy to break\n",
    "def factorial4(number):\n",
    "    if number == 0:\n",
    "        return 1\n",
    "    return number * factorial4(number-1)\n",
    "    \n",
    "print(factorial(5))\n",
    "print(factorial2(5))\n",
    "print(factorial3(5))\n",
    "print(factorial4(5))\n",
    "\n",
    "\n",
    "print(factorial(0))\n",
    "print(factorial2(0))\n",
    "print(factorial3(0))\n",
    "print(factorial4(0))\n",
    "\n"
   ]
  },
  {
   "cell_type": "code",
   "execution_count": null,
   "id": "425cbfee-917a-4f26-8787-48a07e01ab4b",
   "metadata": {},
   "outputs": [],
   "source": []
  }
 ],
 "metadata": {
  "kernelspec": {
   "display_name": "Python 3 (ipykernel)",
   "language": "python",
   "name": "python3"
  },
  "language_info": {
   "codemirror_mode": {
    "name": "ipython",
    "version": 3
   },
   "file_extension": ".py",
   "mimetype": "text/x-python",
   "name": "python",
   "nbconvert_exporter": "python",
   "pygments_lexer": "ipython3",
   "version": "3.9.10"
  }
 },
 "nbformat": 4,
 "nbformat_minor": 5
}
