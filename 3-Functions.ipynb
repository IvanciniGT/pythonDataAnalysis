{
 "cells": [
  {
   "cell_type": "markdown",
   "id": "c18f791d-ab3a-40b9-93e7-478964b9c575",
   "metadata": {},
   "source": [
    "# Function\n",
    "\n",
    "A function is a piece of code that we can execute, whenever we want.\n",
    "\n",
    "Python comes with a bunch of integrated functions.\n",
    "\n",
    "Python allows me to define my custom functions."
   ]
  },
  {
   "cell_type": "code",
   "execution_count": 3,
   "id": "cdef408a-00e5-4db1-802d-c2a192b270be",
   "metadata": {},
   "outputs": [
    {
     "name": "stdout",
     "output_type": "stream",
     "text": [
      "Hello\n",
      "Hello\n",
      "Hello\n",
      "Hello\n",
      "Hello\n"
     ]
    }
   ],
   "source": [
    "def sayHello():\n",
    "    print(\"Hello\")\n",
    "    \n",
    "# Look at the name of the function. In this case, we are not using snake_case, we are using camelCase.\n",
    "\n",
    "sayHello()\n",
    "sayHello()\n",
    "sayHello()\n",
    "sayHello()\n",
    "sayHello()"
   ]
  },
  {
   "cell_type": "code",
   "execution_count": null,
   "id": "2a053f1d-7f42-493b-9cd7-faed05cca8db",
   "metadata": {},
   "outputs": [],
   "source": []
  }
 ],
 "metadata": {
  "kernelspec": {
   "display_name": "Python 3 (ipykernel)",
   "language": "python",
   "name": "python3"
  },
  "language_info": {
   "codemirror_mode": {
    "name": "ipython",
    "version": 3
   },
   "file_extension": ".py",
   "mimetype": "text/x-python",
   "name": "python",
   "nbconvert_exporter": "python",
   "pygments_lexer": "ipython3",
   "version": "3.9.10"
  }
 },
 "nbformat": 4,
 "nbformat_minor": 5
}
