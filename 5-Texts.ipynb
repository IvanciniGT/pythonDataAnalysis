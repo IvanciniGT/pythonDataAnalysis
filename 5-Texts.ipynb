{
 "cells": [
  {
   "cell_type": "code",
   "execution_count": 1,
   "id": "bc479f9a-7249-43fb-8025-888d712e5044",
   "metadata": {},
   "outputs": [
    {
     "data": {
      "text/plain": [
       "'\\nI could define a text\\nwith multiple lines\\n'"
      ]
     },
     "execution_count": 1,
     "metadata": {},
     "output_type": "execute_result"
    }
   ],
   "source": [
    "my_text=\"\"\"\n",
    "I could define a text\n",
    "with multiple lines\n",
    "\"\"\"\n",
    "my_text"
   ]
  },
  {
   "cell_type": "code",
   "execution_count": 2,
   "id": "e85263bc-fd4a-4ef3-b63e-0a45bba8c2a8",
   "metadata": {},
   "outputs": [
    {
     "data": {
      "text/plain": [
       "'I'"
      ]
     },
     "execution_count": 2,
     "metadata": {},
     "output_type": "execute_result"
    }
   ],
   "source": [
    "my_text[1]"
   ]
  },
  {
   "cell_type": "code",
   "execution_count": 5,
   "id": "3ee5c615-e5c1-4ebc-9a01-8754a77ffc61",
   "metadata": {},
   "outputs": [
    {
     "name": "stdout",
     "output_type": "stream",
     "text": [
      "HI EVERYBODY\n",
      "hi everybody\n",
      "Hi everybody\n",
      "Hi Everybody\n",
      "HI eVERYBODY\n"
     ]
    }
   ],
   "source": [
    "# Functions for controlling the case\n",
    "\n",
    "my_new_text=\"hi Everybody\"\n",
    "print( my_new_text.upper() ) # But gives me a copy of the original text in uppercase\n",
    "print( my_new_text.lower() ) \n",
    "print( my_new_text.capitalize() ) # Only the fisrt letter of the whole text appears in uppercase\n",
    "print( my_new_text.title() )      # The first letter of every single word appears in uppercase\n",
    "print( my_new_text.swapcase() ) \n"
   ]
  },
  {
   "cell_type": "code",
   "execution_count": 7,
   "id": "6d2909d0-acf5-4c0f-a5d1-fa4da837888c",
   "metadata": {},
   "outputs": [
    {
     "data": {
      "text/plain": [
       "'   Hi\\n       everybody    \\n '"
      ]
     },
     "execution_count": 7,
     "metadata": {},
     "output_type": "execute_result"
    }
   ],
   "source": [
    "# Functions for controlling whitespaces\n",
    "# What is a whitespace? They a several chars: That long key that you have in your keyboard (whitespace,blank), also the TAB, and the BREAK RETURN (ENTER)\n",
    "whitespaced_text=\"\"\"   Hi\n",
    "       everybody    \\n \"\"\"\n",
    "whitespaced_text"
   ]
  },
  {
   "cell_type": "code",
   "execution_count": 9,
   "id": "cc380ef1-713b-4e25-8e84-d2676329ea1b",
   "metadata": {},
   "outputs": [
    {
     "data": {
      "text/plain": [
       "'Hi\\n       everybody'"
      ]
     },
     "execution_count": 9,
     "metadata": {},
     "output_type": "execute_result"
    }
   ],
   "source": [
    "whitespaced_text.strip()  # Return a copy of the text without the leading and trailing whitespaces\n"
   ]
  },
  {
   "cell_type": "code",
   "execution_count": 10,
   "id": "89e9f784-29e4-411a-84ad-ae05add8ba47",
   "metadata": {},
   "outputs": [
    {
     "data": {
      "text/plain": [
       "'   Hi\\n       everybody'"
      ]
     },
     "execution_count": 10,
     "metadata": {},
     "output_type": "execute_result"
    }
   ],
   "source": [
    "whitespaced_text.rstrip()  # Return a copy of the text without the trailing whitespaces"
   ]
  },
  {
   "cell_type": "code",
   "execution_count": 11,
   "id": "6e4264a1-bba2-48c3-ac6f-f4079723fe55",
   "metadata": {},
   "outputs": [
    {
     "data": {
      "text/plain": [
       "'Hi\\n       everybody    \\n '"
      ]
     },
     "execution_count": 11,
     "metadata": {},
     "output_type": "execute_result"
    }
   ],
   "source": [
    "whitespaced_text.lstrip()  # Return a copy of the text without the leading whitespaces"
   ]
  },
  {
   "cell_type": "code",
   "execution_count": 12,
   "id": "cb183862-384d-48f9-bc6e-3e2bfae0224a",
   "metadata": {},
   "outputs": [
    {
     "data": {
      "text/plain": [
       "['hi', 'Everybody']"
      ]
     },
     "execution_count": 12,
     "metadata": {},
     "output_type": "execute_result"
    }
   ],
   "source": [
    "# Text splitting\n",
    "my_new_text=\"hi Everybody\"\n",
    "my_new_text.split() # By default whitespaces are used to break (split) the text"
   ]
  },
  {
   "cell_type": "code",
   "execution_count": 13,
   "id": "05131193-4ed7-44fe-ac87-4f3efb7625d3",
   "metadata": {},
   "outputs": [
    {
     "data": {
      "text/plain": [
       "['hi Ev', 'rybody']"
      ]
     },
     "execution_count": 13,
     "metadata": {},
     "output_type": "execute_result"
    }
   ],
   "source": [
    "my_new_text.split('e') # By default whitespaces are used to break (split) the text"
   ]
  },
  {
   "cell_type": "code",
   "execution_count": 14,
   "id": "e9faeee8-b9ec-478b-9cde-9af619dcfda7",
   "metadata": {},
   "outputs": [
    {
     "data": {
      "text/plain": [
       "3"
      ]
     },
     "execution_count": 14,
     "metadata": {},
     "output_type": "execute_result"
    }
   ],
   "source": [
    "my_new_text.index(\"E\")"
   ]
  },
  {
   "cell_type": "markdown",
   "id": "afed3361-ad34-404c-92f6-a28f79c192a5",
   "metadata": {},
   "source": [
    "# Functions for Regular Expressions\n",
    "\n",
    "Regular expression: We define a pattern, with a special syntax (PERL)\n",
    "\n",
    "TEXT: \"Hi my friend\"\n",
    "\n",
    "PATTERN 1: Ends with the word \"friend\".                 \"friend$\"\n",
    "PATTERN 2: Starts with the word \"my\".                   \"^my\"\n",
    "PATTERN 3: Contains the word \"my\".                      \"my\"\n",
    "\n",
    "Does my TEXT follow the PATTERN 1?   YES\n",
    "Where does the TEXT contains that PATTERN 1? 6:end\n",
    "\n",
    "Does my TEXT follow the PATTERN 2?   NO\n",
    "Does my TEXT follow the PATTERN 3?   FOR SURE !\n",
    "\n",
    "\n",
    "\n",
    "TEXT: \"Hi my friend. I'm comming to see u on 21-05-2022 for vacations\"\n",
    "PATTERN: Contains a date\n",
    "Does my TEXT follow the PATTERN?   YES\n",
    "Where does the TEXT contains that PATTERN? 20:26\n",
    "Give to me the chars in that range:  \"21-05-2022\"\n",
    "\n",
    "## Where can I apply this regex stuff?\n",
    "\n",
    "- To check if a value follows a pattern. Is it well typed or not? VALIDATE DATA\n",
    "- If a want to recover part of a text\n",
    "\n",
    "## How to compose a regex using PERL syntax\n",
    "\n",
    "A patter is a combination.. a sequence o subpatterns.\n",
    "\n",
    "A subpattern is a combination .. a sequence o 2 different parts:\n",
    "\n",
    "1. a sequence of chars:\n",
    "    - \"abc\"   - That exactly sequence of chars must be present\n",
    "    - \"[abc]\" - Any of this chars must be present\n",
    "    - \"[a-z]\" - Any char from a to z, including, b, f, h, l, p...\n",
    "    - \"[A-Z]\"\n",
    "    - \"[0-9]\"\n",
    "    - \"[2-7]\"\n",
    "    - \"[a-zA-Z0-9áéíúÚüâò]\"\n",
    "    - \".\"     - Any char\n",
    "    \n",
    "2. the amount of times that combination should appear in our text\n",
    "    - If we say nothing, it means once\n",
    "    - If we type a ?, it means that it can appear or not.. it's fine, if it is not.\n",
    "    - If we type {3}, it means 3 times\n",
    "    - {3,5}  It has to appear from 3 to 5 (included) times\n",
    "    - If we type +, it means that the sequence has to appear at least once\n",
    "    - If we type *, it means that the sequence may not appear or that it can appear many times\n",
    "   \n",
    "These subpatters can be placed in sequence. In addition we have 3 special chars:\n",
    "\n",
    "    - | Which means \"or\":\n",
    "        Hello|Hi\n",
    "    - ^ Starts with\n",
    "    - $ Ends with\n",
    "    - () Group char sequences\n",
    "         Identify a part of a match\n",
    "\n",
    "    [0-9]+€{2}\n",
    "\n",
    "## Suggestion\n",
    "\n",
    "Whenever you need to deal with regex, go to Google: regex101"
   ]
  },
  {
   "cell_type": "markdown",
   "id": "e397cd6b-67f7-46d9-abaf-d43f237b96db",
   "metadata": {},
   "source": [
    "# Libraries\n",
    "\n",
    "A library is collection of functions defined by someone (I don't know who or yes) that I can use in my programs\n",
    "\n",
    "If I want to use a library, I have to:\n",
    "\n",
    "- Install that library within my python installation\n",
    "- Tell python that I want to use that library: `import`\n",
    "\n",
    "Actually, python comes with a bunch of libraries preinstalled.\n",
    "\n",
    "The one for dealing with regular expressions comes within any python installation.\n"
   ]
  },
  {
   "cell_type": "code",
   "execution_count": 16,
   "id": "ccc8dfc4-c030-4d26-a7c4-6e1756bb4829",
   "metadata": {},
   "outputs": [
    {
     "name": "stdout",
     "output_type": "stream",
     "text": [
      "The text doesn't follow the pattern\n"
     ]
    }
   ],
   "source": [
    "import re\n",
    "\n",
    "my_text = \"My name is Ivan, and I am 43 years old. I have 10€ an $20 in my pocket.\"\n",
    "#PATTERN = \"^name\"\n",
    "PATTERN_FOR_A_SURNAME = \".+[A-Z][a-z]+\"\n",
    "PATTERN_FOR_THE_AGE = \"^.* [0-9]{1,2} \" # 0-99\n",
    "\n",
    "#print(my_text)\n",
    "#print(PATTERN)\n",
    "\n",
    "if re.match(PATTERN_FOR_THE_AGE, my_text):\n",
    "    print(\"The text follows the pattern\")\n",
    "else:\n",
    "    print(\"The text doesn't follow the pattern\")"
   ]
  },
  {
   "cell_type": "code",
   "execution_count": 29,
   "id": "4cb2d91b-20e6-4d59-bf51-e66acfa4d73a",
   "metadata": {},
   "outputs": [
    {
     "name": "stdout",
     "output_type": "stream",
     "text": [
      "My name is Ivan, and I am 43 years old. I have 10€ an $20 in my pocket.\n",
      "(25, 29)\n",
      " 43 \n"
     ]
    }
   ],
   "source": [
    "my_text = \"My name is Ivan, and I am 43 years old. I have 10€ an $20 in my pocket.\"\n",
    "PATTERN = \"name\"\n",
    "PATTERN_FOR_A_SURNAME = \".+([A-Z][a-z]+)\"\n",
    "PATTERN_FOR_THE_AGE = \" [0-9]{1,2} \" # 0-99\n",
    "\n",
    "result=re.search(PATTERN_FOR_THE_AGE, my_text)\n",
    "\n",
    "print(result.string)\n",
    "print(result.span())\n",
    "print(result.group())\n",
    "\n",
    "#print(  re.sub(PATTERN_FOR_THE_AGE, my_text)   )\n"
   ]
  },
  {
   "cell_type": "code",
   "execution_count": 33,
   "id": "77e2b041-907d-4ee8-ab1a-b5e5fef4dbf6",
   "metadata": {},
   "outputs": [
    {
     "name": "stdout",
     "output_type": "stream",
     "text": [
      "Original text: 20,24€\n",
      "20.24\n",
      "€\n",
      "Original text: $20.54\n",
      "20.54\n",
      "$\n",
      "Original text: 20$\n",
      "20.0\n",
      "$\n",
      "Original text: 20 €\n",
      "20.0\n",
      "€\n",
      "Original text: £20\n",
      "20.0\n",
      "£\n",
      "Original text: €20\n",
      "20.0\n",
      "€\n"
     ]
    }
   ],
   "source": [
    "quantities=( \"20,24€\", \"$20.54\", \"20$\", \"20 €\", \"£20\", \"€20\" )\n",
    "\n",
    "#I want you to print for each quantity: \n",
    "#    - The number part\n",
    "#    - The currency: € $ £\n",
    "\n",
    "def splitQuantity(a_quantity):\n",
    "    PATTERN_FOR_THE_NUMBER = \"[0-9,.]+\" # 0-99\n",
    "#    result = re.search(PATTERN_FOR_THE_NUMBER, a_quantity )\n",
    "#    amount = result.group()\n",
    "    \n",
    "    amount = re.search(PATTERN_FOR_THE_NUMBER, a_quantity ).group()\n",
    "    amount = re.sub(\",\" , \".\", amount )\n",
    "    \n",
    "    currency  = re.search(\"[€$£]\", a_quantity ).group()\n",
    "    \n",
    "#    if re.match( \".*€\", a_quantity ):\n",
    "#        currency=\"€\"\n",
    "#    elif re.match( \".*$\", a_quantity ):\n",
    "#        currency=\"$\"    \n",
    "#    else:\n",
    "#        currency=\"£\" \n",
    "    return (float(amount),currency)\n",
    "        \n",
    "for each_quantity in quantities:\n",
    "    amount, currency = splitQuantity(each_quantity)\n",
    "    print(\"Original text: \" + each_quantity)\n",
    "    print(amount)\n",
    "    print(currency)\n",
    "    "
   ]
  },
  {
   "cell_type": "code",
   "execution_count": null,
   "id": "669d8309-85ec-47ff-a79b-3fb9ef4216f3",
   "metadata": {},
   "outputs": [],
   "source": [
    "# This function splits the numerical part of the quantity and transforms it to a number\n",
    "# It also identifies the currency\n",
    "def splitQuantity(a_quantity):\n",
    "    # Let's get the numerical part\n",
    "    PATTERN_FOR_THE_NUMBER = \"[0-9,.]+\"     \n",
    "    amount = re.search(PATTERN_FOR_THE_NUMBER, a_quantity ).group()\n",
    "    # Let's replace the comma by a dot\n",
    "    amount = re.sub(\",\" , \".\", amount )\n",
    "    # Let's get the currency\n",
    "    currency  = re.search(\"[€$£]\", a_quantity ).group()\n",
    "    return (float(amount),currency)\n",
    "        \n",
    "# We just loop thru the quantities    \n",
    "for each_quantity in quantities:\n",
    "    amount, currency = splitQuantity(each_quantity)\n",
    "    \n",
    "    return (float(amount),currency)print(\"Original text: \" + each_quantity)\n",
    "    print(amount)\n",
    "    print(currency)\n",
    "    "
   ]
  }
 ],
 "metadata": {
  "kernelspec": {
   "display_name": "Python 3 (ipykernel)",
   "language": "python",
   "name": "python3"
  },
  "language_info": {
   "codemirror_mode": {
    "name": "ipython",
    "version": 3
   },
   "file_extension": ".py",
   "mimetype": "text/x-python",
   "name": "python",
   "nbconvert_exporter": "python",
   "pygments_lexer": "ipython3",
   "version": "3.9.10"
  }
 },
 "nbformat": 4,
 "nbformat_minor": 5
}
