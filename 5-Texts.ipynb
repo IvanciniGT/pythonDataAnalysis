{
 "cells": [
  {
   "cell_type": "code",
   "execution_count": 1,
   "id": "bc479f9a-7249-43fb-8025-888d712e5044",
   "metadata": {},
   "outputs": [
    {
     "data": {
      "text/plain": [
       "'\\nI could define a text\\nwith multiple lines\\n'"
      ]
     },
     "execution_count": 1,
     "metadata": {},
     "output_type": "execute_result"
    }
   ],
   "source": [
    "my_text=\"\"\"\n",
    "I could define a text\n",
    "with multiple lines\n",
    "\"\"\"\n",
    "my_text"
   ]
  },
  {
   "cell_type": "code",
   "execution_count": 2,
   "id": "e85263bc-fd4a-4ef3-b63e-0a45bba8c2a8",
   "metadata": {},
   "outputs": [
    {
     "data": {
      "text/plain": [
       "'I'"
      ]
     },
     "execution_count": 2,
     "metadata": {},
     "output_type": "execute_result"
    }
   ],
   "source": [
    "my_text[1]"
   ]
  },
  {
   "cell_type": "code",
   "execution_count": 5,
   "id": "3ee5c615-e5c1-4ebc-9a01-8754a77ffc61",
   "metadata": {},
   "outputs": [
    {
     "name": "stdout",
     "output_type": "stream",
     "text": [
      "HI EVERYBODY\n",
      "hi everybody\n",
      "Hi everybody\n",
      "Hi Everybody\n",
      "HI eVERYBODY\n"
     ]
    }
   ],
   "source": [
    "# Functions for controlling the case\n",
    "\n",
    "my_new_text=\"hi Everybody\"\n",
    "print( my_new_text.upper() ) # But gives me a copy of the original text in uppercase\n",
    "print( my_new_text.lower() ) \n",
    "print( my_new_text.capitalize() ) # Only the fisrt letter of the whole text appears in uppercase\n",
    "print( my_new_text.title() )      # The first letter of every single word appears in uppercase\n",
    "print( my_new_text.swapcase() ) \n"
   ]
  },
  {
   "cell_type": "code",
   "execution_count": 7,
   "id": "6d2909d0-acf5-4c0f-a5d1-fa4da837888c",
   "metadata": {},
   "outputs": [
    {
     "data": {
      "text/plain": [
       "'   Hi\\n       everybody    \\n '"
      ]
     },
     "execution_count": 7,
     "metadata": {},
     "output_type": "execute_result"
    }
   ],
   "source": [
    "# Functions for controlling whitespaces\n",
    "# What is a whitespace? They a several chars: That long key that you have in your keyboard (whitespace,blank), also the TAB, and the BREAK RETURN (ENTER)\n",
    "whitespaced_text=\"\"\"   Hi\n",
    "       everybody    \\n \"\"\"\n",
    "whitespaced_text"
   ]
  },
  {
   "cell_type": "code",
   "execution_count": 9,
   "id": "cc380ef1-713b-4e25-8e84-d2676329ea1b",
   "metadata": {},
   "outputs": [
    {
     "data": {
      "text/plain": [
       "'Hi\\n       everybody'"
      ]
     },
     "execution_count": 9,
     "metadata": {},
     "output_type": "execute_result"
    }
   ],
   "source": [
    "whitespaced_text.strip()  # Return a copy of the text without the leading and trailing whitespaces\n"
   ]
  },
  {
   "cell_type": "code",
   "execution_count": 10,
   "id": "89e9f784-29e4-411a-84ad-ae05add8ba47",
   "metadata": {},
   "outputs": [
    {
     "data": {
      "text/plain": [
       "'   Hi\\n       everybody'"
      ]
     },
     "execution_count": 10,
     "metadata": {},
     "output_type": "execute_result"
    }
   ],
   "source": [
    "whitespaced_text.rstrip()  # Return a copy of the text without the trailing whitespaces"
   ]
  },
  {
   "cell_type": "code",
   "execution_count": 11,
   "id": "6e4264a1-bba2-48c3-ac6f-f4079723fe55",
   "metadata": {},
   "outputs": [
    {
     "data": {
      "text/plain": [
       "'Hi\\n       everybody    \\n '"
      ]
     },
     "execution_count": 11,
     "metadata": {},
     "output_type": "execute_result"
    }
   ],
   "source": [
    "whitespaced_text.lstrip()  # Return a copy of the text without the leading whitespaces"
   ]
  },
  {
   "cell_type": "code",
   "execution_count": 12,
   "id": "cb183862-384d-48f9-bc6e-3e2bfae0224a",
   "metadata": {},
   "outputs": [
    {
     "data": {
      "text/plain": [
       "['hi', 'Everybody']"
      ]
     },
     "execution_count": 12,
     "metadata": {},
     "output_type": "execute_result"
    }
   ],
   "source": [
    "# Text splitting\n",
    "my_new_text=\"hi Everybody\"\n",
    "my_new_text.split() # By default whitespaces are used to break (split) the text"
   ]
  },
  {
   "cell_type": "code",
   "execution_count": 13,
   "id": "05131193-4ed7-44fe-ac87-4f3efb7625d3",
   "metadata": {},
   "outputs": [
    {
     "data": {
      "text/plain": [
       "['hi Ev', 'rybody']"
      ]
     },
     "execution_count": 13,
     "metadata": {},
     "output_type": "execute_result"
    }
   ],
   "source": [
    "my_new_text.split('e') # By default whitespaces are used to break (split) the text"
   ]
  },
  {
   "cell_type": "code",
   "execution_count": 14,
   "id": "e9faeee8-b9ec-478b-9cde-9af619dcfda7",
   "metadata": {},
   "outputs": [
    {
     "data": {
      "text/plain": [
       "3"
      ]
     },
     "execution_count": 14,
     "metadata": {},
     "output_type": "execute_result"
    }
   ],
   "source": [
    "my_new_text.index(\"E\")"
   ]
  },
  {
   "cell_type": "markdown",
   "id": "afed3361-ad34-404c-92f6-a28f79c192a5",
   "metadata": {},
   "source": [
    "# Functions for Regular Expressions\n",
    "\n",
    "Regular expression: We define a pattern, with a special syntax (PERL)\n",
    "\n",
    "TEXT: \"Hi my friend\"\n",
    "\n",
    "PATTERN 1: Ends with the word \"friend\".                 \"friend$\"\n",
    "PATTERN 2: Starts with the word \"my\".                   \"^my\"\n",
    "PATTERN 3: Contains the word \"my\".                      \"my\"\n",
    "\n",
    "Does my TEXT follow the PATTERN 1?   YES\n",
    "Where does the TEXT contains that PATTERN 1? 6:end\n",
    "\n",
    "Does my TEXT follow the PATTERN 2?   NO\n",
    "Does my TEXT follow the PATTERN 3?   FOR SURE !\n",
    "\n",
    "\n",
    "\n",
    "TEXT: \"Hi my friend. I'm comming to see u on 21-05-2022 for vacations\"\n",
    "PATTERN: Contains a date\n",
    "Does my TEXT follow the PATTERN?   YES\n",
    "Where does the TEXT contains that PATTERN? 20:26\n",
    "Give to me the chars in that range:  \"21-05-2022\"\n",
    "\n",
    "## Where can I apply this regex stuff?\n",
    "\n",
    "- To check if a value follows a pattern. Is it well typed or not? VALIDATE DATA\n",
    "- If a want to recover part of a text\n",
    "\n",
    "## How to compose a regex using PERL syntax\n",
    "\n",
    "A patter is a combination.. a sequence o subpatterns.\n",
    "\n",
    "A subpattern is a combination .. a sequence o 2 different parts:\n",
    "\n",
    "1. a sequence of chars:\n",
    "    - \"abc\"   - That exactly sequence of chars must be present\n",
    "    - \"[abc]\" - Any of this chars must be present\n",
    "    - \"[a-z]\" - Any char from a to z, including, b, f, h, l, p...\n",
    "    - \"[A-Z]\"\n",
    "    - \"[0-9]\"\n",
    "    - \"[2-7]\"\n",
    "    - \"[a-zA-Z0-9áéíúÚüâò]\"\n",
    "    - \".\"     - Any char\n",
    "    \n",
    "2. the amount of times that combination should appear in our text\n",
    "    - If we say nothing, it means once\n",
    "    - If we type a ?, it means that it can appear or not.. it's fine, if it is not.\n",
    "    - If we type {3}, it means 3 times\n",
    "    - {3,5}  It has to appear from 3 to 5 (included) times\n",
    "    - If we type +, it means that the sequence has to appear at least once\n",
    "    - If we type *, it means that the sequence may not appear or that it can appear many times\n",
    "   \n",
    "These subpatters can be placed in sequence. In addition we have 3 special chars:\n",
    "    - | Which means \"or\":\n",
    "        Hello|Hi\n",
    "    - ^ Starts with\n",
    "    - $ Ends with\n",
    "\n",
    "## Suggestion\n",
    "\n",
    "Whenever you need to deal with regex, go to Google: regex101"
   ]
  },
  {
   "cell_type": "markdown",
   "id": "e397cd6b-67f7-46d9-abaf-d43f237b96db",
   "metadata": {},
   "source": [
    "# Libraries\n",
    "\n",
    "A library is collection of functions defined by someone (I don't know who or yes) that I can use in my programs\n",
    "\n",
    "If I want to use a library, I have to:\n",
    "\n",
    "- Install that library within my python installation\n",
    "- Tell python that I want to use that library: `import`\n",
    "\n",
    "Actually, python comes with a bunch of libraries preinstalled.\n",
    "\n",
    "The one for dealing with regular expressions comes within any python installation.\n"
   ]
  },
  {
   "cell_type": "code",
   "execution_count": null,
   "id": "ccc8dfc4-c030-4d26-a7c4-6e1756bb4829",
   "metadata": {},
   "outputs": [],
   "source": []
  }
 ],
 "metadata": {
  "kernelspec": {
   "display_name": "Python 3 (ipykernel)",
   "language": "python",
   "name": "python3"
  },
  "language_info": {
   "codemirror_mode": {
    "name": "ipython",
    "version": 3
   },
   "file_extension": ".py",
   "mimetype": "text/x-python",
   "name": "python",
   "nbconvert_exporter": "python",
   "pygments_lexer": "ipython3",
   "version": "3.9.10"
  }
 },
 "nbformat": 4,
 "nbformat_minor": 5
}
